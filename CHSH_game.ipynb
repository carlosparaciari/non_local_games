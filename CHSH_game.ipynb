{
 "cells": [
  {
   "cell_type": "markdown",
   "metadata": {},
   "source": [
    "# SDP relaxations for the CHSH game"
   ]
  },
  {
   "cell_type": "code",
   "execution_count": 1,
   "metadata": {},
   "outputs": [],
   "source": [
    "import lib_non_local_games as nlg\n",
    "import numpy as np\n",
    "import cvxpy as cp\n",
    "import functools as fc\n",
    "from operator import mul"
   ]
  },
  {
   "cell_type": "code",
   "execution_count": 2,
   "metadata": {},
   "outputs": [
    {
     "data": {
      "text/plain": [
       "['ECOS', 'ECOS_BB', 'MOSEK', 'OSQP', 'SCS']"
      ]
     },
     "execution_count": 2,
     "metadata": {},
     "output_type": "execute_result"
    }
   ],
   "source": [
    "cp.installed_solvers()"
   ]
  },
  {
   "cell_type": "markdown",
   "metadata": {},
   "source": [
    "Parameter of the CHSH game"
   ]
  },
  {
   "cell_type": "code",
   "execution_count": 3,
   "metadata": {},
   "outputs": [],
   "source": [
    "dimA1 = 2\n",
    "dimA2 = 2\n",
    "dimQ1 = 2\n",
    "dimQ2 = 2\n",
    "\n",
    "dimT = 2\n",
    "dimS = 2\n",
    "\n",
    "probQ1 = (.5,.5)\n",
    "probQ2 = (.5,.5)"
   ]
  },
  {
   "cell_type": "markdown",
   "metadata": {},
   "source": [
    "# CHSH game $n_1 = 1$, $n_2 = 1$, and $|T| = 2$"
   ]
  },
  {
   "cell_type": "markdown",
   "metadata": {},
   "source": [
    "### With CQ assumption and complex variables\n",
    "\n",
    "We consider the variable\n",
    "\n",
    "$\\rho_{A_1 Q_1 A_2 Q_2 T \\hat{T} S \\hat{S}} = \\sum_{a_1,q_1,a_2,q_2} |a_1,q_1,a_2,q_2 \\rangle \\langle a_1,q_1,a_2,q_2|_{A_1 Q_1 A_2 Q_2} \\otimes \\tilde{\\rho}(a_1,q_1,a_2,q_2)_{T \\hat{T} S \\hat{S}}$,\n",
    "\n",
    "where the states $ \\left\\{\\tilde{\\rho}(a_1,q_1,a_2,q_2)\\right\\}$ are the variables, and they are sub-normalized so that $\\mathrm{Tr} \\left[ \\tilde{\\rho}(a_1,q_1,a_2,q_2) \\right] = p(a_1,q_1,a_2,q_2)$."
   ]
  },
  {
   "cell_type": "code",
   "execution_count": 4,
   "metadata": {},
   "outputs": [],
   "source": [
    "# Subsystems A1 Q1 A2 Q2\n",
    "subs_A1Q1A2Q2 = (dimA1,dimQ1,dimA2,dimQ2)\n",
    "indices_A1Q1A2Q2 = nlg.indices_list(subs_A1Q1A2Q2)\n",
    "dim_A1Q1A2Q2 = fc.reduce(mul, subs_A1Q1A2Q2, 1)\n",
    "\n",
    "# Subsystems A2 Q1 Q2\n",
    "subs_A2Q1Q2 = (dimA2,dimQ1,dimQ2)\n",
    "indices_A2Q1Q2 = nlg.indices_list(subs_A2Q1Q2)\n",
    "\n",
    "# Subsystems A1 Q1 Q2\n",
    "subs_A1Q1Q2 = (dimA1,dimQ1,dimQ2)\n",
    "indices_A1Q1Q2 = nlg.indices_list(subs_A1Q1Q2)\n",
    "\n",
    "# Subsystems A1 Q1\n",
    "subs_A1Q1 = (dimA1,dimQ1)\n",
    "indices_A1Q1 = nlg.indices_list(subs_A1Q1)\n",
    "\n",
    "# Subsystems A2 Q2\n",
    "subs_A2Q2 = (dimA2,dimQ2)\n",
    "indices_A2Q2 = nlg.indices_list(subs_A2Q2)\n",
    "\n",
    "# Subsystems T hat(T) S hat(S)\n",
    "subs_TTSS = (dimT,dimT,dimS,dimS)\n",
    "indices_TTSS = nlg.indices_list(subs_TTSS)\n",
    "dim_TTSS = fc.reduce(mul, subs_TTSS, 1)\n",
    "\n",
    "# Additional dimensions\n",
    "dim_TSS = dimT * dimS**2\n",
    "dim_TT = dimT**2\n",
    "dim_SS = dimS**2\n",
    "\n",
    "# State on subsystem T\n",
    "rhoT = np.identity(dimT)/dimT"
   ]
  },
  {
   "cell_type": "markdown",
   "metadata": {},
   "source": [
    "The program"
   ]
  },
  {
   "cell_type": "code",
   "execution_count": 5,
   "metadata": {},
   "outputs": [],
   "source": [
    "## VARIABLES\n",
    "\n",
    "# The (sub-normalized) states we optimize over\n",
    "rho_TTSS = []\n",
    "for i in map(nlg.binarytoint,indices_A1Q1A2Q2):\n",
    "    rho_TTSS.append( cp.Variable((dim_TTSS,dim_TTSS),hermitian=True) )\n",
    "\n",
    "## OBJECTIVE FUNCTION\n",
    "\n",
    "# The rule function is\n",
    "rule_A1Q1A2Q2 = nlg.CHSH_rule_function_A1Q1A2Q2\n",
    "\n",
    "# The swap operator is\n",
    "F_TTSS = nlg.permutation_matrix((0,1), (1,0), (dim_TT, dim_SS))\n",
    "\n",
    "# The object function is\n",
    "obj_fun_components = [rule_A1Q1A2Q2(*index) * cp.trace( cp.matmul(F_TTSS,rho_TTSS[nlg.binarytoint(index)]) )\n",
    "                      for index in indices_A1Q1A2Q2]\n",
    "\n",
    "object_function = cp.Constant(dimT**2) * sum(obj_fun_components)\n",
    "\n",
    "## CONSTRAINTS\n",
    "\n",
    "constraints = []\n",
    "    \n",
    "# 2) rho_TTSS are (sub-normalized) quantum states\n",
    "# 2a) trace of the sum is 1\n",
    "constraints.append( sum([cp.trace(rho_TTSS[i]) for i in map(nlg.binarytoint,indices_A1Q1A2Q2)]) - 1 == 0 )\n",
    "\n",
    "# 2b) positive semidefinite matrices\n",
    "for i in map(nlg.binarytoint,indices_A1Q1A2Q2):\n",
    "    constraints.append( rho_TTSS[i] >> 0 )\n",
    "    \n",
    "# 3) First linear constraint\n",
    "for a2,q1,q2 in indices_A2Q1Q2:\n",
    "    indices_A1q1a2q2 = [nlg.binarytoint([a,q1,a2,q2]) for a in range(dimA1)]\n",
    "    indices_A1Q1a2q2 = [nlg.binarytoint([a,q,a2,q2]) for a,q in indices_A1Q1]\n",
    "    \n",
    "    lhs = sum([rho_TTSS[i] for i in indices_A1q1a2q2])\n",
    "    \n",
    "    rhs_variable = sum([rho_TTSS[i] for i in indices_A1Q1a2q2])\n",
    "    rhs_partial = nlg.partial_trace(rhs_variable, [dimT, dim_TSS])\n",
    "    rhs = cp.Constant(probQ1[q1]) * cp.kron(rhoT, rhs_partial)\n",
    "    \n",
    "    constraints.append( lhs - rhs == 0 )\n",
    "    \n",
    "# 4) Second linear constraint\n",
    "P = nlg.permutation_matrix((0,1,2,3),(1,0,2,3),subs_TTSS)\n",
    "\n",
    "for a1,q1,q2 in indices_A1Q1Q2:\n",
    "    indices_a1q1A2q2 = [nlg.binarytoint([a1,q1,a,q2]) for a in range(dimA2)]\n",
    "    indices_a1q1A2Q2 = [nlg.binarytoint([a1,q1,a,q]) for a,q in indices_A2Q2]\n",
    "    \n",
    "    lhs_variable = sum([rho_TTSS[i] for i in indices_a1q1A2q2])\n",
    "    lhs = cp.matmul( cp.matmul(P,lhs_variable) , P )\n",
    "    \n",
    "    rhs_variable = sum([rho_TTSS[i] for i in indices_a1q1A2Q2])\n",
    "    rhs_permuted = cp.matmul( cp.matmul(P,rhs_variable) , P )\n",
    "    rhs_partial = nlg.partial_trace(rhs_permuted, [dimT, dim_TSS])\n",
    "    rhs = cp.Constant(probQ2[q2]) * cp.kron(rhoT, rhs_partial)\n",
    "    \n",
    "    constraints.append( lhs - rhs == 0 )\n",
    "    \n",
    "# 5) PPT criterium\n",
    "for i in map(nlg.binarytoint,indices_A1Q1A2Q2):\n",
    "    constraints.append( nlg.partial_transpose(rho_TTSS[i],subs_TTSS,(0,0,1,1)) >> 0 )\n",
    "    constraints.append( nlg.partial_transpose(rho_TTSS[i],subs_TTSS,(1,0,0,0)) >> 0 )\n",
    "    constraints.append( nlg.partial_transpose(rho_TTSS[i],subs_TTSS,(0,1,0,0)) >> 0 )\n",
    "    \n",
    "# Write the problem\n",
    "prob = cp.Problem(cp.Maximize(cp.real(object_function)), constraints)"
   ]
  },
  {
   "cell_type": "markdown",
   "metadata": {},
   "source": [
    "Solve the problem"
   ]
  },
  {
   "cell_type": "code",
   "execution_count": 6,
   "metadata": {},
   "outputs": [
    {
     "name": "stdout",
     "output_type": "stream",
     "text": [
      "\n",
      "\n",
      "Problem\n",
      "  Name                   :                 \n",
      "  Objective sense        : min             \n",
      "  Type                   : CONIC (conic optimization problem)\n",
      "  Constraints            : 73730           \n",
      "  Cones                  : 0               \n",
      "  Scalar variables       : 6272            \n",
      "  Matrix variables       : 64              \n",
      "  Integer variables      : 0               \n",
      "\n",
      "Optimizer started.\n",
      "GP based matrix reordering started.\n",
      "GP based matrix reordering terminated.\n",
      "Problem\n",
      "  Name                   :                 \n",
      "  Objective sense        : min             \n",
      "  Type                   : CONIC (conic optimization problem)\n",
      "  Constraints            : 73730           \n",
      "  Cones                  : 0               \n",
      "  Scalar variables       : 6272            \n",
      "  Matrix variables       : 64              \n",
      "  Integer variables      : 0               \n",
      "\n",
      "Optimizer  - threads                : 2               \n",
      "Optimizer  - solved problem         : the primal      \n",
      "Optimizer  - Constraints            : 66545\n",
      "Optimizer  - Cones                  : 1\n",
      "Optimizer  - Scalar variables       : 2305              conic                  : 2305            \n",
      "Optimizer  - Semi-definite variables: 64                scalarized             : 33792           \n",
      "Factor     - setup time             : 31.17             dense det. time        : 7.89            \n",
      "Factor     - ML order time          : 4.47              GP order time          : 8.33            \n",
      "Factor     - nonzeros before factor : 3.41e+07          after factor           : 7.99e+07        \n",
      "Factor     - dense dim.             : 770               flops                  : 1.15e+11        \n",
      "Factor     - GP saved nzs           : 1.38e+08          GP saved flops         : 1.21e+12        \n",
      "ITE PFEAS    DFEAS    GFEAS    PRSTATUS   POBJ              DOBJ              MU       TIME  \n",
      "0   1.0e+00  1.6e+01  1.0e+00  0.00e+00   0.000000000e+00   0.000000000e+00   1.0e+00  31.52 \n",
      "1   1.0e-01  1.7e+00  3.9e-02  -8.54e-01  -1.353440570e+01  -1.358756206e+01  1.0e-01  37.38 \n",
      "2   5.6e-02  8.9e-01  9.0e-03  3.47e+00   -5.715074570e+00  -5.727529190e+00  5.6e-02  41.83 \n",
      "3   4.7e-02  7.5e-01  2.5e-03  1.06e+01   -1.244900069e+00  -1.246870303e+00  4.7e-02  46.22 \n",
      "4   6.9e-04  1.1e-02  6.1e-07  1.65e+00   -1.005944378e+00  -1.005990439e+00  6.9e-04  51.17 \n",
      "5   2.0e-09  8.2e-08  1.6e-14  1.02e+00   -1.000000016e+00  -1.000000016e+00  2.0e-09  56.48 \n",
      "Optimizer terminated. Time: 56.63   \n",
      "\n",
      "\n",
      "Interior-point solution summary\n",
      "  Problem status  : PRIMAL_AND_DUAL_FEASIBLE\n",
      "  Solution status : OPTIMAL\n",
      "  Primal.  obj: -1.0000000163e+00   nrm: 1e+00    Viol.  con: 1e-10    var: 0e+00    barvar: 0e+00  \n",
      "  Dual.    obj: -1.0000000164e+00   nrm: 8e+00    Viol.  con: 0e+00    var: 5e-09    barvar: 1e-10  \n"
     ]
    },
    {
     "data": {
      "text/plain": [
       "1.000000016296899"
      ]
     },
     "execution_count": 6,
     "metadata": {},
     "output_type": "execute_result"
    }
   ],
   "source": [
    "prob.solve(verbose=True,solver='MOSEK')"
   ]
  },
  {
   "cell_type": "markdown",
   "metadata": {},
   "source": [
    "# CHSH game $n_1 = 2$, $n_2 = 1$, and $|T| = 2$"
   ]
  },
  {
   "cell_type": "markdown",
   "metadata": {},
   "source": [
    "### With CQ assumptions  and real variables\n",
    "\n",
    "This is now a variable\n",
    "\n",
    "$\\rho_{(A^{(1)}_1 Q^{(1)}_1 T^{(1)}) (A^{(2)}_1 Q^{(2)}_1 T^{(2)}) (A_2 Q_2 \\hat{T}) (S \\hat{S})} = \\sum_{a_1,a'_1,a_2,q_1,q'_1,q_2} |a_1,a'_1,q_1,q'_1,a_2,q_2 \\rangle \\langle a_1,a'_1,q_1,q'_1,a_2,q_2|_{A^{(1)}_1 A^{(2)}_1 Q^{(1)}_1 Q^{(2)}_1 A_2 Q_2} \\otimes \\tilde{\\rho}(a_1,a'_1,q_1,q'_1,a_2,q_2)_{T^{(1)} T^{(2)} \\hat{T} S \\hat{S}}$,\n",
    "\n",
    "where the states $ \\left\\{\\tilde{\\rho}(a_1,a'_1,q_1,q'_1,a_2,q_2)\\right\\}$ are the variables, and they are sub-normalized so that $\\mathrm{Tr} \\left[ \\tilde{\\rho}(a_1,a'_1,q_1,q'_1,a_2,q_2) \\right] = p(a_1,a'_1,q_1,q'_1,a_2,q_2)$."
   ]
  },
  {
   "cell_type": "code",
   "execution_count": 7,
   "metadata": {},
   "outputs": [],
   "source": [
    "# Subsystems A(1)1 A(2)1 Q(1)1 Q(2)1 A2 Q2\n",
    "subs_AAQQ1_AQ2 = (dimA1,dimA1,dimQ1,dimQ1,dimA2,dimQ2)\n",
    "indices_AAQQ1_AQ2 = nlg.indices_list(subs_AAQQ1_AQ2)\n",
    "\n",
    "# Subsystems T(1)1 T(2)1 T2 S1 S2\n",
    "subs_TT1_T2_S1_S2 = (dimT,dimT,dimT,dimS,dimS)\n",
    "dim_TT1_T2_S1_S2 = fc.reduce(mul, subs_TT1_T2_S1_S2, 1)\n",
    "\n",
    "# Subsystems T(*)1 T2 S1 S2\n",
    "subs_T1_T2_S1_S2 = (dimT,dimT,dimS,dimS)\n",
    "dim_T1_T2_S1_S2 = fc.reduce(mul, subs_T1_T2_S1_S2, 1)\n",
    "\n",
    "# Subsystems A(1)1 Q(1)1 A2 Q2\n",
    "subs_A1Q1A2Q2 = (dimA1,dimQ1,dimA2,dimQ2)\n",
    "indices_A1Q1A2Q2 = nlg.indices_list(subs_A1Q1A2Q2)\n",
    "\n",
    "# Subsystems A(2)1 Q(1)1 Q(2)1 A2 Q2\n",
    "subs_AQQ1_AQ2 = (dimA1,dimQ1,dimQ1,dimA2,dimQ2)\n",
    "indices_AQQ1_AQ2 = nlg.indices_list(subs_AQQ1_AQ2)\n",
    "\n",
    "# Subsystems A(1)1 A(2)1 Q(1)1 Q(2)1 Q2\n",
    "subs_AAQQ1_Q2 = (dimA1,dimA1,dimQ1,dimQ1,dimQ2)\n",
    "indices_AAQQ1_Q2 = nlg.indices_list(subs_AAQQ1_Q2)\n",
    "\n",
    "# Subsystems A1 Q1\n",
    "subs_A1Q1 = (dimA1,dimQ1)\n",
    "indices_A1Q1 = nlg.indices_list(subs_A1Q1)\n",
    "\n",
    "# Subsystems A2 Q2\n",
    "subs_A2Q2 = (dimA2,dimQ2)\n",
    "indices_A2Q2 = nlg.indices_list(subs_A2Q2)\n",
    "\n",
    "# State on subsystem T\n",
    "rhoT = np.identity(dimT)/dimT"
   ]
  },
  {
   "cell_type": "markdown",
   "metadata": {},
   "source": [
    "The program"
   ]
  },
  {
   "cell_type": "code",
   "execution_count": 8,
   "metadata": {},
   "outputs": [],
   "source": [
    "## VARIABLES \n",
    "\n",
    "# The (sub-normalized) states we optimize over\n",
    "rho_T1T2TSS = []\n",
    "for i in map(nlg.binarytoint,indices_AAQQ1_AQ2):\n",
    "    rho_T1T2TSS.append( cp.Variable((dim_TT1_T2_S1_S2,dim_TT1_T2_S1_S2),symmetric=True) )\n",
    "\n",
    "## OBJECTIVE FUNCTION\n",
    "\n",
    "# The swap operator takes T(1)1 T(2)1 T2 S1 S2 to S1 T(2)1 S2 T(1)1 T2\n",
    "F_TTTSS = cp.Constant(nlg.permutation_matrix((0,1,2,3,4), (3,1,4,0,2), subs_TT1_T2_S1_S2))\n",
    "\n",
    "# The object function is\n",
    "obj_fun_components = []\n",
    "for a1,q1,a2,q2 in indices_A1Q1A2Q2:\n",
    "    v_a1q1a2q2 = cp.Constant( int(nlg.CHSH_rule_function_A1Q1A2Q2(a1,q1,a2,q2)) )\n",
    "    variable_T1T2TSS = sum([rho_T1T2TSS[nlg.binarytoint([a1,a,q1,q,a2,q2])] for a,q in indices_A1Q1])\n",
    "    obj_fun_components.append( v_a1q1a2q2 * cp.trace( cp.matmul(F_TTTSS,variable_T1T2TSS) ) )\n",
    "    \n",
    "object_function = cp.Constant(dimT**2) * sum(obj_fun_components)\n",
    "\n",
    "## CONSTRAINTS\n",
    "\n",
    "constraints = []\n",
    "\n",
    "# 1) rho_T1T2TSS are (sub-normalized) quantum states\n",
    "# 1a) trace of the sum is 1\n",
    "constraints.append( sum([cp.trace(rho_T1T2TSS[i]) for i in map(nlg.binarytoint,indices_AAQQ1_AQ2)]) - 1 == 0 )\n",
    "\n",
    "# 1b) positive semidefinite matrices\n",
    "for i in map(nlg.binarytoint,indices_AAQQ1_AQ2):\n",
    "    constraints.append( rho_T1T2TSS[i] >> 0 )\n",
    "    \n",
    "# 2) Permutation invariance over A(1)1 Q(1)1 T1 and A(2)1 Q(2)1 T2\n",
    "\n",
    "# The permutation matrix swaps T(1)1 and T(2)1\n",
    "P = cp.Constant(nlg.permutation_matrix((0,1,2,3,4), (1,0,2,3,4), subs_TT1_T2_S1_S2))\n",
    "\n",
    "for a1,a,q1,q,a2,q2 in indices_AAQQ1_AQ2:\n",
    "    lhs = rho_T1T2TSS[nlg.binarytoint([a1,a,q1,q,a2,q2])]\n",
    "    \n",
    "    rhs_variable = rho_T1T2TSS[nlg.binarytoint([a,a1,q,q1,a2,q2])]\n",
    "    rhs = cp.matmul(cp.matmul(P,rhs_variable),P)\n",
    "    \n",
    "    constraints.append( lhs - rhs == 0 )\n",
    "\n",
    "# 3) First linear constraint\n",
    "for a,q1,q,a2,q2 in indices_AQQ1_AQ2:\n",
    "    indices_A1aq1qa2q2 = [nlg.binarytoint([a1,a,q1,q,a2,q2]) for a1 in range(dimA1)]\n",
    "    indices_A1aQ1qa2q2 = [nlg.binarytoint([a1,a,qq1,q,a2,q2]) for a1,qq1 in indices_A1Q1]\n",
    "    \n",
    "    lhs = sum([rho_T1T2TSS[i] for i in indices_A1aq1qa2q2])\n",
    "    \n",
    "    rhs_variable = sum([rho_T1T2TSS[i] for i in indices_A1aQ1qa2q2])\n",
    "    rhs_partial = nlg.partial_trace(rhs_variable, [dimT, dim_T1_T2_S1_S2])\n",
    "    rhs = cp.Constant(probQ1[q1]) * cp.kron(cp.Constant(rhoT), rhs_partial)\n",
    "    \n",
    "    constraints.append( lhs - rhs == 0 )\n",
    "    \n",
    "# 4) Second linear constraint\n",
    "\n",
    "# The permutation matrix swaps T(1)1 and T2\n",
    "P = cp.Constant(nlg.permutation_matrix((0,1,2,3,4), (2,1,0,3,4), subs_TT1_T2_S1_S2))\n",
    "\n",
    "for a1,a,q1,q,q2 in indices_AAQQ1_Q2:\n",
    "    indices_a1aq1qA2q2 = [nlg.binarytoint([a1,a,q1,q,a2,q2]) for a2 in range(dimA2)]\n",
    "    indices_a1aq1qA2Q2 = [nlg.binarytoint([a1,a,q1,q,a2,qq2]) for a2,qq2 in indices_A2Q2]\n",
    "    \n",
    "    lhs_variable = sum([rho_T1T2TSS[i] for i in indices_a1aq1qA2q2])\n",
    "    lhs = cp.matmul( cp.matmul(P,lhs_variable) , P )\n",
    "    \n",
    "    rhs_variable = sum([rho_T1T2TSS[i] for i in indices_a1aq1qA2Q2])\n",
    "    rhs_permuted = cp.matmul( cp.matmul(P,rhs_variable) , P )\n",
    "    rhs_partial = nlg.partial_trace(rhs_permuted, [dimT, dim_T1_T2_S1_S2])\n",
    "    rhs = cp.Constant(probQ2[q2]) * cp.kron(cp.Constant(rhoT), rhs_partial)\n",
    "    \n",
    "    constraints.append( lhs - rhs == 0 )\n",
    "    \n",
    "# 5) PPT criterium\n",
    "for i in map(nlg.binarytoint,indices_AAQQ1_AQ2):\n",
    "    constraints.append( nlg.partial_transpose(rho_T1T2TSS[i],subs_TT1_T2_S1_S2,(0,0,0,1,1)) >> 0 )\n",
    "#    constraints.append( nlg.partial_transpose(rho_T1T2TSS[i],subs_TT1_T2_S1_S2,(1,1,0,0,0)) >> 0 )\n",
    "    constraints.append( nlg.partial_transpose(rho_T1T2TSS[i],subs_TT1_T2_S1_S2,(0,0,1,0,0)) >> 0 )\n",
    "    \n",
    "# Write the problem\n",
    "prob = cp.Problem(cp.Maximize(object_function), constraints)"
   ]
  },
  {
   "cell_type": "code",
   "execution_count": 9,
   "metadata": {},
   "outputs": [
    {
     "name": "stdout",
     "output_type": "stream",
     "text": [
      "\n",
      "\n",
      "Problem\n",
      "  Name                   :                 \n",
      "  Objective sense        : min             \n",
      "  Type                   : CONIC (conic optimization problem)\n",
      "  Constraints            : 327681          \n",
      "  Cones                  : 0               \n",
      "  Scalar variables       : 33792           \n",
      "  Matrix variables       : 192             \n",
      "  Integer variables      : 0               \n",
      "\n",
      "Optimizer started.\n",
      "Problem\n",
      "  Name                   :                 \n",
      "  Objective sense        : min             \n",
      "  Type                   : CONIC (conic optimization problem)\n",
      "  Constraints            : 327681          \n",
      "  Cones                  : 0               \n",
      "  Scalar variables       : 33792           \n",
      "  Matrix variables       : 192             \n",
      "  Integer variables      : 0               \n",
      "\n",
      "Optimizer  - threads                : 2               \n",
      "Optimizer  - solved problem         : the primal      \n",
      "Optimizer  - Constraints            : 201202\n",
      "Optimizer  - Cones                  : 1\n",
      "Optimizer  - Scalar variables       : 8004              conic                  : 8004            \n",
      "Optimizer  - Semi-definite variables: 192               scalarized             : 101376          \n",
      "Factor     - setup time             : 105.06            dense det. time        : 34.28           \n",
      "Factor     - ML order time          : 16.28             GP order time          : 0.00            \n",
      "Factor     - nonzeros before factor : 1.01e+08          after factor           : 1.93e+08        \n",
      "Factor     - dense dim.             : 6666              flops                  : 4.17e+11        \n",
      "ITE PFEAS    DFEAS    GFEAS    PRSTATUS   POBJ              DOBJ              MU       TIME  \n",
      "0   1.0e+00  1.6e+01  1.0e+00  0.00e+00   0.000000000e+00   0.000000000e+00   1.0e+00  106.44\n",
      "1   1.1e-02  3.1e-01  4.7e-02  -9.94e-01  -8.613681635e+01  -6.806368144e+01  1.1e-02  125.88\n",
      "2   4.7e-03  1.3e-01  1.9e-03  5.06e+00   -1.288357873e+01  -1.273791257e+01  4.7e-03  143.55\n",
      "3   3.3e-03  9.3e-02  1.5e-04  9.50e+00   -1.709075916e+00  -1.708161228e+00  3.3e-03  160.51\n",
      "4   2.2e-03  6.2e-02  7.1e-05  3.63e+00   -1.121297523e+00  -1.120677547e+00  2.2e-03  179.55\n",
      "5   3.1e-04  8.9e-03  3.0e-06  1.94e+00   -8.954202585e-01  -8.953713750e-01  3.1e-04  198.47\n",
      "6   5.9e-07  1.7e-05  1.9e-11  1.10e+00   -8.750569306e-01  -8.750570038e-01  5.9e-07  216.81\n",
      "7   4.3e-09  8.3e-10  6.6e-19  1.00e+00   -8.750000021e-01  -8.750000021e-01  2.2e-11  233.91\n",
      "Optimizer terminated. Time: 234.36  \n",
      "\n",
      "\n",
      "Interior-point solution summary\n",
      "  Problem status  : PRIMAL_AND_DUAL_FEASIBLE\n",
      "  Solution status : OPTIMAL\n",
      "  Primal.  obj: -8.7500000211e-01   nrm: 1e+00    Viol.  con: 4e-09    var: 0e+00    barvar: 0e+00  \n",
      "  Dual.    obj: -8.7500000211e-01   nrm: 9e+01    Viol.  con: 0e+00    var: 1e-10    barvar: 5e-13  \n",
      "0.8750000021104416\n"
     ]
    }
   ],
   "source": [
    "opt_value = prob.solve(verbose=True,solver='MOSEK')\n",
    "print(opt_value)"
   ]
  },
  {
   "cell_type": "markdown",
   "metadata": {},
   "source": [
    "### Save the optimal $\\rho$"
   ]
  },
  {
   "cell_type": "code",
   "execution_count": 29,
   "metadata": {},
   "outputs": [],
   "source": [
    "# The permutation takes [T(1)1 T(2)1] T2 S1 S2 to [T(2)1 T(1)1] T2 S1 S2\n",
    "P = cp.Constant(nlg.permutation_matrix((0,1,2,3,4), (1,0,2,3,4), subs_TT1_T2_S1_S2))\n",
    "\n",
    "for a1,q1,a2,q2 in indices_A1Q1A2Q2:\n",
    "    indices_a1q1a2q2 = [nlg.binarytoint([a1,aa1,q1,qq1,a2,q2]) for aa1,qq1 in indices_A1Q1]\n",
    "    \n",
    "    rho_variable = sum([rho_T1T2TSS[i] for i in indices_a1q1a2q2])\n",
    "    rho_permuted = cp.matmul(cp.matmul(P,rho_variable),P)\n",
    "    rho_TTSS = nlg.partial_trace(rho_permuted, [dimT, dim_T1_T2_S1_S2])\n",
    "    \n",
    "    np.save('./optimal_rho/rho_a1_{}_q1_{}_a2_{}_q2_{}.npy'.format(a1,q1,a2,q2),np.array(rho_TTSS.value))"
   ]
  },
  {
   "cell_type": "markdown",
   "metadata": {},
   "source": [
    "### Load the optimal $\\rho$ and compute objective function"
   ]
  },
  {
   "cell_type": "code",
   "execution_count": 31,
   "metadata": {},
   "outputs": [
    {
     "name": "stdout",
     "output_type": "stream",
     "text": [
      "0.8750000021104416\n"
     ]
    }
   ],
   "source": [
    "# The swap operator takes T1 T2 S1 S2 to S1 S2 T1 T2\n",
    "F = nlg.permutation_matrix((0,1,2,3), (2,3,0,1), subs_T1_T2_S1_S2)\n",
    "\n",
    "opt_value = 0\n",
    "\n",
    "for a1,q1,a2,q2 in indices_A1Q1A2Q2:\n",
    "    v_a1q1a2q2 = int(nlg.CHSH_rule_function_A1Q1A2Q2(a1,q1,a2,q2))\n",
    "    opt_rho = np.load('./optimal_rho/rho_a1_{}_q1_{}_a2_{}_q2_{}.npy'.format(a1,q1,a2,q2))\n",
    "    opt_value += dimT**2 * v_a1q1a2q2 * np.trace( np.matmul(F,opt_rho) )\n",
    "    \n",
    "print(opt_value)"
   ]
  },
  {
   "cell_type": "code",
   "execution_count": null,
   "metadata": {},
   "outputs": [],
   "source": []
  }
 ],
 "metadata": {
  "kernelspec": {
   "display_name": "Python 3",
   "language": "python",
   "name": "python3"
  },
  "language_info": {
   "codemirror_mode": {
    "name": "ipython",
    "version": 3
   },
   "file_extension": ".py",
   "mimetype": "text/x-python",
   "name": "python",
   "nbconvert_exporter": "python",
   "pygments_lexer": "ipython3",
   "version": "3.7.3"
  }
 },
 "nbformat": 4,
 "nbformat_minor": 2
}
