{
 "cells": [
  {
   "cell_type": "markdown",
   "metadata": {},
   "source": [
    "# SDP relaxations for the CHSH game"
   ]
  },
  {
   "cell_type": "code",
   "execution_count": 1,
   "metadata": {},
   "outputs": [],
   "source": [
    "import lib_non_local_games as nlg\n",
    "import numpy as np\n",
    "import cvxpy as cp\n",
    "import functools as fc\n",
    "from operator import mul"
   ]
  },
  {
   "cell_type": "code",
   "execution_count": 2,
   "metadata": {},
   "outputs": [
    {
     "data": {
      "text/plain": [
       "['CVXOPT', 'ECOS', 'ECOS_BB', 'GLPK', 'GLPK_MI', 'MOSEK', 'OSQP', 'SCS']"
      ]
     },
     "execution_count": 2,
     "metadata": {},
     "output_type": "execute_result"
    }
   ],
   "source": [
    "cp.installed_solvers()"
   ]
  },
  {
   "cell_type": "markdown",
   "metadata": {},
   "source": [
    "Parameter of the CHSH game"
   ]
  },
  {
   "cell_type": "code",
   "execution_count": 3,
   "metadata": {},
   "outputs": [],
   "source": [
    "dimA1 = 2\n",
    "dimA2 = 2\n",
    "dimQ1 = 2\n",
    "dimQ2 = 2\n",
    "\n",
    "dimT = 2\n",
    "dimS = 2\n",
    "\n",
    "probQ1 = (.5,.5)\n",
    "probQ2 = (.5,.5)"
   ]
  },
  {
   "cell_type": "markdown",
   "metadata": {},
   "source": [
    "# CHSH game $n_1 = 1$, $n_2 = 1$, and $|T| = 2$"
   ]
  },
  {
   "cell_type": "markdown",
   "metadata": {},
   "source": [
    "### With CQ assumption and complex variables\n",
    "\n",
    "We consider the variable\n",
    "\n",
    "$\\rho_{A_1 Q_1 A_2 Q_2 T \\hat{T} S \\hat{S}} = \\sum_{a_1,q_1,a_2,q_2} |a_1,q_1,a_2,q_2 \\rangle \\langle a_1,q_1,a_2,q_2|_{A_1 Q_1 A_2 Q_2} \\otimes \\tilde{\\rho}(a_1,q_1,a_2,q_2)_{T \\hat{T} S \\hat{S}}$,\n",
    "\n",
    "where the states $ \\left\\{\\tilde{\\rho}(a_1,q_1,a_2,q_2)\\right\\}$ are the variables, and they are sub-normalized so that $\\mathrm{Tr} \\left[ \\tilde{\\rho}(a_1,q_1,a_2,q_2) \\right] = p(a_1,q_1,a_2,q_2)$."
   ]
  },
  {
   "cell_type": "code",
   "execution_count": 4,
   "metadata": {},
   "outputs": [],
   "source": [
    "# Subsystems A1 Q1 A2 Q2\n",
    "subs_A1Q1A2Q2 = (dimA1,dimQ1,dimA2,dimQ2)\n",
    "indices_A1Q1A2Q2 = nlg.indices_list(subs_A1Q1A2Q2)\n",
    "dim_A1Q1A2Q2 = fc.reduce(mul, subs_A1Q1A2Q2, 1)\n",
    "\n",
    "# Subsystems A2 Q1 Q2\n",
    "subs_A2Q1Q2 = (dimA2,dimQ1,dimQ2)\n",
    "indices_A2Q1Q2 = nlg.indices_list(subs_A2Q1Q2)\n",
    "\n",
    "# Subsystems A1 Q1 Q2\n",
    "subs_A1Q1Q2 = (dimA1,dimQ1,dimQ2)\n",
    "indices_A1Q1Q2 = nlg.indices_list(subs_A1Q1Q2)\n",
    "\n",
    "# Subsystems A1 Q1\n",
    "subs_A1Q1 = (dimA1,dimQ1)\n",
    "indices_A1Q1 = nlg.indices_list(subs_A1Q1)\n",
    "\n",
    "# Subsystems A2 Q2\n",
    "subs_A2Q2 = (dimA2,dimQ2)\n",
    "indices_A2Q2 = nlg.indices_list(subs_A2Q2)\n",
    "\n",
    "# Subsystems T hat(T) S hat(S)\n",
    "subs_TTSS = (dimT,dimT,dimS,dimS)\n",
    "indices_TTSS = nlg.indices_list(subs_TTSS)\n",
    "dim_TTSS = fc.reduce(mul, subs_TTSS, 1)\n",
    "\n",
    "# Additional dimensions\n",
    "dim_TSS = dimT * dimS**2\n",
    "dim_TT = dimT**2\n",
    "dim_SS = dimS**2\n",
    "\n",
    "# State on subsystem T\n",
    "rhoT = np.identity(dimT)/dimT"
   ]
  },
  {
   "cell_type": "markdown",
   "metadata": {},
   "source": [
    "The program"
   ]
  },
  {
   "cell_type": "code",
   "execution_count": 5,
   "metadata": {},
   "outputs": [],
   "source": [
    "## VARIABLES\n",
    "\n",
    "# The (sub-normalized) states we optimize over\n",
    "rho_TTSS = []\n",
    "for i in map(nlg.binarytoint,indices_A1Q1A2Q2):\n",
    "    rho_TTSS.append( cp.Variable((dim_TTSS,dim_TTSS),hermitian=True) )\n",
    "\n",
    "## OBJECTIVE FUNCTION\n",
    "\n",
    "# The rule function is\n",
    "rule_A1Q1A2Q2 = nlg.CHSH_rule_function_A1Q1A2Q2\n",
    "\n",
    "# The swap operator is\n",
    "F_TTSS = nlg.permutation_matrix((0,1), (1,0), (dim_TT, dim_SS))\n",
    "\n",
    "# The object function is\n",
    "obj_fun_components = [rule_A1Q1A2Q2(*index) * cp.trace( cp.matmul(F_TTSS,rho_TTSS[nlg.binarytoint(index)]) )\n",
    "                      for index in indices_A1Q1A2Q2]\n",
    "\n",
    "object_function = cp.Constant(dimT**2) * sum(obj_fun_components)\n",
    "\n",
    "## CONSTRAINTS\n",
    "\n",
    "constraints = []\n",
    "    \n",
    "# 2) rho_TTSS are (sub-normalized) quantum states\n",
    "# 2a) trace of the sum is 1\n",
    "constraints.append( sum([cp.trace(rho_TTSS[i]) for i in map(nlg.binarytoint,indices_A1Q1A2Q2)]) - 1 == 0 )\n",
    "\n",
    "# 2b) positive semidefinite matrices\n",
    "for i in map(nlg.binarytoint,indices_A1Q1A2Q2):\n",
    "    constraints.append( rho_TTSS[i] >> 0 )\n",
    "    \n",
    "# 3) First linear constraint\n",
    "for a2,q1,q2 in indices_A2Q1Q2:\n",
    "    indices_A1q1a2q2 = [nlg.binarytoint([a,q1,a2,q2]) for a in range(dimA1)]\n",
    "    indices_A1Q1a2q2 = [nlg.binarytoint([a,q,a2,q2]) for a,q in indices_A1Q1]\n",
    "    \n",
    "    lhs = sum([rho_TTSS[i] for i in indices_A1q1a2q2])\n",
    "    \n",
    "    rhs_variable = sum([rho_TTSS[i] for i in indices_A1Q1a2q2])\n",
    "    rhs_partial = nlg.partial_trace(rhs_variable, [dimT, dim_TSS])\n",
    "    rhs = cp.Constant(probQ1[q1]) * cp.kron(rhoT, rhs_partial)\n",
    "    \n",
    "    constraints.append( lhs - rhs == 0 )\n",
    "    \n",
    "# 4) Second linear constraint\n",
    "P = nlg.permutation_matrix((0,1,2,3),(1,0,2,3),subs_TTSS)\n",
    "\n",
    "for a1,q1,q2 in indices_A1Q1Q2:\n",
    "    indices_a1q1A2q2 = [nlg.binarytoint([a1,q1,a,q2]) for a in range(dimA2)]\n",
    "    indices_a1q1A2Q2 = [nlg.binarytoint([a1,q1,a,q]) for a,q in indices_A2Q2]\n",
    "    \n",
    "    lhs_variable = sum([rho_TTSS[i] for i in indices_a1q1A2q2])\n",
    "    lhs = cp.matmul( cp.matmul(P,lhs_variable) , P )\n",
    "    \n",
    "    rhs_variable = sum([rho_TTSS[i] for i in indices_a1q1A2Q2])\n",
    "    rhs_permuted = cp.matmul( cp.matmul(P,rhs_variable) , P )\n",
    "    rhs_partial = nlg.partial_trace(rhs_permuted, [dimT, dim_TSS])\n",
    "    rhs = cp.Constant(probQ2[q2]) * cp.kron(rhoT, rhs_partial)\n",
    "    \n",
    "    constraints.append( lhs - rhs == 0 )\n",
    "    \n",
    "# 5) PPT criterium\n",
    "for i in map(nlg.binarytoint,indices_A1Q1A2Q2):\n",
    "    constraints.append( nlg.partial_transpose(rho_TTSS[i],subs_TTSS,(0,0,1,1)) >> 0 )\n",
    "    constraints.append( nlg.partial_transpose(rho_TTSS[i],subs_TTSS,(1,0,0,0)) >> 0 )\n",
    "    constraints.append( nlg.partial_transpose(rho_TTSS[i],subs_TTSS,(0,1,0,0)) >> 0 )\n",
    "    \n",
    "# Write the problem\n",
    "prob = cp.Problem(cp.Maximize(cp.real(object_function)), constraints)"
   ]
  },
  {
   "cell_type": "markdown",
   "metadata": {},
   "source": [
    "Solve the problem"
   ]
  },
  {
   "cell_type": "code",
   "execution_count": 6,
   "metadata": {},
   "outputs": [
    {
     "name": "stdout",
     "output_type": "stream",
     "text": [
      "\n",
      "\n",
      "Problem\n",
      "  Name                   :                 \n",
      "  Objective sense        : min             \n",
      "  Type                   : CONIC (conic optimization problem)\n",
      "  Constraints            : 73730           \n",
      "  Cones                  : 0               \n",
      "  Scalar variables       : 6272            \n",
      "  Matrix variables       : 64              \n",
      "  Integer variables      : 0               \n",
      "\n",
      "Optimizer started.\n",
      "GP based matrix reordering started.\n",
      "GP based matrix reordering terminated.\n",
      "Problem\n",
      "  Name                   :                 \n",
      "  Objective sense        : min             \n",
      "  Type                   : CONIC (conic optimization problem)\n",
      "  Constraints            : 73730           \n",
      "  Cones                  : 0               \n",
      "  Scalar variables       : 6272            \n",
      "  Matrix variables       : 64              \n",
      "  Integer variables      : 0               \n",
      "\n",
      "Optimizer  - threads                : 2               \n",
      "Optimizer  - solved problem         : the primal      \n",
      "Optimizer  - Constraints            : 66545\n",
      "Optimizer  - Cones                  : 1\n",
      "Optimizer  - Scalar variables       : 2305              conic                  : 2305            \n",
      "Optimizer  - Semi-definite variables: 64                scalarized             : 33792           \n",
      "Factor     - setup time             : 30.97             dense det. time        : 8.20            \n",
      "Factor     - ML order time          : 4.17              GP order time          : 7.95            \n",
      "Factor     - nonzeros before factor : 3.41e+07          after factor           : 7.99e+07        \n",
      "Factor     - dense dim.             : 770               flops                  : 1.15e+11        \n",
      "Factor     - GP saved nzs           : 1.38e+08          GP saved flops         : 1.21e+12        \n",
      "ITE PFEAS    DFEAS    GFEAS    PRSTATUS   POBJ              DOBJ              MU       TIME  \n",
      "0   1.0e+00  1.6e+01  1.0e+00  0.00e+00   0.000000000e+00   0.000000000e+00   1.0e+00  31.13 \n",
      "1   1.0e-01  1.7e+00  3.9e-02  -8.54e-01  -1.353440570e+01  -1.358756206e+01  1.0e-01  37.23 \n",
      "2   5.6e-02  8.9e-01  9.0e-03  3.47e+00   -5.715074570e+00  -5.727529190e+00  5.6e-02  41.64 \n",
      "3   4.7e-02  7.5e-01  2.5e-03  1.06e+01   -1.244900069e+00  -1.246870303e+00  4.7e-02  46.08 \n",
      "4   6.9e-04  1.1e-02  6.1e-07  1.65e+00   -1.005944378e+00  -1.005990439e+00  6.9e-04  51.00 \n",
      "5   2.0e-09  8.2e-08  1.6e-14  1.02e+00   -1.000000016e+00  -1.000000016e+00  2.0e-09  56.30 \n",
      "Optimizer terminated. Time: 56.42   \n",
      "\n",
      "\n",
      "Interior-point solution summary\n",
      "  Problem status  : PRIMAL_AND_DUAL_FEASIBLE\n",
      "  Solution status : OPTIMAL\n",
      "  Primal.  obj: -1.0000000163e+00   nrm: 1e+00    Viol.  con: 1e-10    var: 0e+00    barvar: 0e+00  \n",
      "  Dual.    obj: -1.0000000164e+00   nrm: 8e+00    Viol.  con: 0e+00    var: 5e-09    barvar: 1e-10  \n"
     ]
    },
    {
     "data": {
      "text/plain": [
       "1.000000016296899"
      ]
     },
     "execution_count": 6,
     "metadata": {},
     "output_type": "execute_result"
    }
   ],
   "source": [
    "prob.solve(verbose=True,solver='MOSEK')"
   ]
  },
  {
   "cell_type": "markdown",
   "metadata": {},
   "source": [
    "# CHSH game $n_1 = 2$, $n_2 = 1$, and $|T| = 2$"
   ]
  },
  {
   "cell_type": "markdown",
   "metadata": {},
   "source": [
    "### With CQ assumptions  and real variables\n",
    "\n",
    "This is now a variable\n",
    "\n",
    "$\\rho_{(A^{(1)}_1 Q^{(1)}_1 T^{(1)}) (A^{(2)}_1 Q^{(2)}_1 T^{(2)}) (A_2 Q_2 \\hat{T}) (S \\hat{S})} = \\sum_{a_1,a'_1,a_2,q_1,q'_1,q_2} |a_1,a'_1,q_1,q'_1,a_2,q_2 \\rangle \\langle a_1,a'_1,q_1,q'_1,a_2,q_2|_{A^{(1)}_1 A^{(2)}_1 Q^{(1)}_1 Q^{(2)}_1 A_2 Q_2} \\otimes \\tilde{\\rho}(a_1,a'_1,q_1,q'_1,a_2,q_2)_{T^{(1)} T^{(2)} \\hat{T} S \\hat{S}}$,\n",
    "\n",
    "where the states $ \\left\\{\\tilde{\\rho}(a_1,a'_1,q_1,q'_1,a_2,q_2)\\right\\}$ are the variables, and they are sub-normalized so that $\\mathrm{Tr} \\left[ \\tilde{\\rho}(a_1,a'_1,q_1,q'_1,a_2,q_2) \\right] = p(a_1,a'_1,q_1,q'_1,a_2,q_2)$."
   ]
  },
  {
   "cell_type": "code",
   "execution_count": 4,
   "metadata": {},
   "outputs": [],
   "source": [
    "# Subsystems A(1)1 A(2)1 Q(1)1 Q(2)1 A2 Q2\n",
    "subs_AAQQ1_AQ2 = (dimA1,dimA1,dimQ1,dimQ1,dimA2,dimQ2)\n",
    "indices_AAQQ1_AQ2 = nlg.indices_list(subs_AAQQ1_AQ2)\n",
    "\n",
    "# Subsystems T(1)1 T(2)1 T2 S1 S2\n",
    "subs_TT1_T2_S1_S2 = (dimT,dimT,dimT,dimS,dimS)\n",
    "dim_TT1_T2_S1_S2 = fc.reduce(mul, subs_TT1_T2_S1_S2, 1)\n",
    "\n",
    "# Subsystems T(*)1 T2 S1 S2\n",
    "subs_T1_T2_S1_S2 = (dimT,dimT,dimS,dimS)\n",
    "dim_T1_T2_S1_S2 = fc.reduce(mul, subs_T1_T2_S1_S2, 1)\n",
    "\n",
    "# Subsystems A(1)1 Q(1)1 A2 Q2\n",
    "subs_A1Q1A2Q2 = (dimA1,dimQ1,dimA2,dimQ2)\n",
    "indices_A1Q1A2Q2 = nlg.indices_list(subs_A1Q1A2Q2)\n",
    "\n",
    "# Subsystems A(2)1 Q(1)1 Q(2)1 A2 Q2\n",
    "subs_AQQ1_AQ2 = (dimA1,dimQ1,dimQ1,dimA2,dimQ2)\n",
    "indices_AQQ1_AQ2 = nlg.indices_list(subs_AQQ1_AQ2)\n",
    "\n",
    "# Subsystems A(1)1 A(2)1 Q(1)1 Q(2)1 Q2\n",
    "subs_AAQQ1_Q2 = (dimA1,dimA1,dimQ1,dimQ1,dimQ2)\n",
    "indices_AAQQ1_Q2 = nlg.indices_list(subs_AAQQ1_Q2)\n",
    "\n",
    "# Subsystems A1 Q1\n",
    "subs_A1Q1 = (dimA1,dimQ1)\n",
    "indices_A1Q1 = nlg.indices_list(subs_A1Q1)\n",
    "\n",
    "# Subsystems A2 Q2\n",
    "subs_A2Q2 = (dimA2,dimQ2)\n",
    "indices_A2Q2 = nlg.indices_list(subs_A2Q2)\n",
    "\n",
    "# State on subsystem T\n",
    "rhoT = np.identity(dimT)/dimT"
   ]
  },
  {
   "cell_type": "markdown",
   "metadata": {},
   "source": [
    "The program"
   ]
  },
  {
   "cell_type": "code",
   "execution_count": 5,
   "metadata": {},
   "outputs": [],
   "source": [
    "## VARIABLES \n",
    "\n",
    "# The (sub-normalized) states we optimize over\n",
    "rho_T1T2TSS = []\n",
    "for i in map(nlg.binarytoint,indices_AAQQ1_AQ2):\n",
    "    rho_T1T2TSS.append( cp.Variable((dim_TT1_T2_S1_S2,dim_TT1_T2_S1_S2),symmetric=True) )\n",
    "\n",
    "## OBJECTIVE FUNCTION\n",
    "\n",
    "# The swap operator takes T(1)1 T(2)1 T2 S1 S2 to S1 T(2)1 S2 T(1)1 T2\n",
    "F_TTTSS = cp.Constant(nlg.permutation_matrix((0,1,2,3,4), (3,1,4,0,2), subs_TT1_T2_S1_S2))\n",
    "\n",
    "# The object function is\n",
    "obj_fun_components = []\n",
    "for a1,q1,a2,q2 in indices_A1Q1A2Q2:\n",
    "    v_a1q1a2q2 = cp.Constant( int(nlg.CHSH_rule_function_A1Q1A2Q2(a1,q1,a2,q2)) )\n",
    "    variable_T1T2TSS = sum([rho_T1T2TSS[nlg.binarytoint([a1,a,q1,q,a2,q2])] for a,q in indices_A1Q1])\n",
    "    obj_fun_components.append( v_a1q1a2q2 * cp.trace( cp.matmul(F_TTTSS,variable_T1T2TSS) ) )\n",
    "    \n",
    "object_function = cp.Constant(dimT**2) * sum(obj_fun_components)\n",
    "\n",
    "## CONSTRAINTS\n",
    "\n",
    "constraints = []\n",
    "\n",
    "# 1) rho_T1T2TSS are (sub-normalized) quantum states\n",
    "# 1a) trace of the sum is 1\n",
    "constraints.append( sum([cp.trace(rho_T1T2TSS[i]) for i in map(nlg.binarytoint,indices_AAQQ1_AQ2)]) - 1 == 0 )\n",
    "\n",
    "# 1b) positive semidefinite matrices\n",
    "for i in map(nlg.binarytoint,indices_AAQQ1_AQ2):\n",
    "    constraints.append( rho_T1T2TSS[i] >> 0 )\n",
    "    \n",
    "# 2) Permutation invariance over A(1)1 Q(1)1 T1 and A(2)1 Q(2)1 T2\n",
    "\n",
    "# The permutation matrix swaps T(1)1 and T(2)1\n",
    "P = cp.Constant(nlg.permutation_matrix((0,1,2,3,4), (1,0,2,3,4), subs_TT1_T2_S1_S2))\n",
    "\n",
    "for a1,a,q1,q,a2,q2 in indices_AAQQ1_AQ2:\n",
    "    lhs = rho_T1T2TSS[nlg.binarytoint([a1,a,q1,q,a2,q2])]\n",
    "    \n",
    "    rhs_variable = rho_T1T2TSS[nlg.binarytoint([a,a1,q,q1,a2,q2])]\n",
    "    rhs = cp.matmul(cp.matmul(P,rhs_variable),P)\n",
    "    \n",
    "    constraints.append( lhs - rhs == 0 )\n",
    "\n",
    "# 3) First linear constraint\n",
    "for a,q1,q,a2,q2 in indices_AQQ1_AQ2:\n",
    "    indices_A1aq1qa2q2 = [nlg.binarytoint([a1,a,q1,q,a2,q2]) for a1 in range(dimA1)]\n",
    "    indices_A1aQ1qa2q2 = [nlg.binarytoint([a1,a,qq1,q,a2,q2]) for a1,qq1 in indices_A1Q1]\n",
    "    \n",
    "    lhs = sum([rho_T1T2TSS[i] for i in indices_A1aq1qa2q2])\n",
    "    \n",
    "    rhs_variable = sum([rho_T1T2TSS[i] for i in indices_A1aQ1qa2q2])\n",
    "    rhs_partial = nlg.partial_trace(rhs_variable, [dimT, dim_T1_T2_S1_S2])\n",
    "    rhs = cp.Constant(probQ1[q1]) * cp.kron(cp.Constant(rhoT), rhs_partial)\n",
    "    \n",
    "    constraints.append( lhs - rhs == 0 )\n",
    "    \n",
    "# 4) Second linear constraint\n",
    "\n",
    "# The permutation matrix swaps T(1)1 and T2\n",
    "P = cp.Constant(nlg.permutation_matrix((0,1,2,3,4), (2,1,0,3,4), subs_TT1_T2_S1_S2))\n",
    "\n",
    "for a1,a,q1,q,q2 in indices_AAQQ1_Q2:\n",
    "    indices_a1aq1qA2q2 = [nlg.binarytoint([a1,a,q1,q,a2,q2]) for a2 in range(dimA2)]\n",
    "    indices_a1aq1qA2Q2 = [nlg.binarytoint([a1,a,q1,q,a2,qq2]) for a2,qq2 in indices_A2Q2]\n",
    "    \n",
    "    lhs_variable = sum([rho_T1T2TSS[i] for i in indices_a1aq1qA2q2])\n",
    "    lhs = cp.matmul( cp.matmul(P,lhs_variable) , P )\n",
    "    \n",
    "    rhs_variable = sum([rho_T1T2TSS[i] for i in indices_a1aq1qA2Q2])\n",
    "    rhs_permuted = cp.matmul( cp.matmul(P,rhs_variable) , P )\n",
    "    rhs_partial = nlg.partial_trace(rhs_permuted, [dimT, dim_T1_T2_S1_S2])\n",
    "    rhs = cp.Constant(probQ2[q2]) * cp.kron(cp.Constant(rhoT), rhs_partial)\n",
    "    \n",
    "    constraints.append( lhs - rhs == 0 )\n",
    "    \n",
    "# 5) PPT criterium\n",
    "for i in map(nlg.binarytoint,indices_AAQQ1_AQ2):\n",
    "    constraints.append( nlg.partial_transpose(rho_T1T2TSS[i],subs_TT1_T2_S1_S2,(0,0,0,1,1)) >> 0 )\n",
    "    constraints.append( nlg.partial_transpose(rho_T1T2TSS[i],subs_TT1_T2_S1_S2,(1,1,0,0,0)) >> 0 )\n",
    "    constraints.append( nlg.partial_transpose(rho_T1T2TSS[i],subs_TT1_T2_S1_S2,(0,0,1,0,0)) >> 0 )\n",
    "    \n",
    "# Write the problem\n",
    "prob = cp.Problem(cp.Maximize(object_function), constraints)"
   ]
  },
  {
   "cell_type": "code",
   "execution_count": 6,
   "metadata": {},
   "outputs": [
    {
     "name": "stdout",
     "output_type": "stream",
     "text": [
      "\n",
      "\n",
      "Problem\n",
      "  Name                   :                 \n",
      "  Objective sense        : min             \n",
      "  Type                   : CONIC (conic optimization problem)\n",
      "  Constraints            : 393217          \n",
      "  Cones                  : 0               \n",
      "  Scalar variables       : 33792           \n",
      "  Matrix variables       : 256             \n",
      "  Integer variables      : 0               \n",
      "\n",
      "Optimizer started.\n",
      "Problem\n",
      "  Name                   :                 \n",
      "  Objective sense        : min             \n",
      "  Type                   : CONIC (conic optimization problem)\n",
      "  Constraints            : 393217          \n",
      "  Cones                  : 0               \n",
      "  Scalar variables       : 33792           \n",
      "  Matrix variables       : 256             \n",
      "  Integer variables      : 0               \n",
      "\n",
      "Optimizer  - threads                : 2               \n",
      "Optimizer  - solved problem         : the primal      \n",
      "Optimizer  - Constraints            : 266860\n",
      "Optimizer  - Cones                  : 1\n",
      "Optimizer  - Scalar variables       : 8126              conic                  : 8126            \n",
      "Optimizer  - Semi-definite variables: 256               scalarized             : 135168          \n",
      "Factor     - setup time             : 137.25            dense det. time        : 46.88           \n",
      "Factor     - ML order time          : 19.89             GP order time          : 0.00            \n",
      "Factor     - nonzeros before factor : 1.35e+08          after factor           : 2.30e+08        \n",
      "Factor     - dense dim.             : 7304              flops                  : 3.61e+11        \n",
      "ITE PFEAS    DFEAS    GFEAS    PRSTATUS   POBJ              DOBJ              MU       TIME  \n",
      "0   1.0e+00  1.6e+01  1.0e+00  0.00e+00   0.000000000e+00   0.000000000e+00   1.0e+00  138.64\n",
      "1   1.4e-02  3.6e-01  4.4e-02  -9.90e-01  -7.045591538e+01  -6.006449678e+01  1.4e-02  160.02\n",
      "2   6.8e-03  1.8e-01  8.6e-03  5.94e+00   -1.249099975e+01  -1.093764940e+01  6.8e-03  175.28\n",
      "3   5.7e-03  1.5e-01  8.7e-04  5.85e+00   -3.550238564e+00  -3.531819894e+00  5.7e-03  190.83\n",
      "4   2.9e-03  7.6e-02  2.3e-04  6.08e+00   -1.245913067e+00  -1.239871262e+00  2.9e-03  207.16\n",
      "5   1.9e-03  5.0e-02  1.2e-04  2.62e+00   -1.030956864e+00  -1.027481901e+00  1.9e-03  227.08\n",
      "6   1.0e-04  2.7e-03  1.8e-06  1.72e+00   -8.793630011e-01  -8.790700890e-01  1.0e-04  242.86\n",
      "7   1.8e-09  1.2e-07  7.8e-14  1.02e+00   -8.750001385e-01  -8.750001367e-01  2.2e-09  265.63\n",
      "Optimizer terminated. Time: 266.11  \n",
      "\n",
      "\n",
      "Interior-point solution summary\n",
      "  Problem status  : PRIMAL_AND_DUAL_FEASIBLE\n",
      "  Solution status : OPTIMAL\n",
      "  Primal.  obj: -8.7500013854e-01   nrm: 1e+00    Viol.  con: 4e-10    var: 0e+00    barvar: 0e+00  \n",
      "  Dual.    obj: -8.7500013666e-01   nrm: 7e+01    Viol.  con: 0e+00    var: 1e-08    barvar: 2e-10  \n"
     ]
    },
    {
     "data": {
      "text/plain": [
       "0.8750001385396399"
      ]
     },
     "execution_count": 6,
     "metadata": {},
     "output_type": "execute_result"
    }
   ],
   "source": [
    "prob.solve(verbose=True,solver='MOSEK')"
   ]
  },
  {
   "cell_type": "code",
   "execution_count": null,
   "metadata": {},
   "outputs": [],
   "source": []
  }
 ],
 "metadata": {
  "kernelspec": {
   "display_name": "Python 3",
   "language": "python",
   "name": "python3"
  },
  "language_info": {
   "codemirror_mode": {
    "name": "ipython",
    "version": 3
   },
   "file_extension": ".py",
   "mimetype": "text/x-python",
   "name": "python",
   "nbconvert_exporter": "python",
   "pygments_lexer": "ipython3",
   "version": "3.7.3"
  }
 },
 "nbformat": 4,
 "nbformat_minor": 2
}
