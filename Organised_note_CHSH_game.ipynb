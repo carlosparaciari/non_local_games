{
 "cells": [
  {
   "cell_type": "code",
   "execution_count": 1,
   "metadata": {},
   "outputs": [],
   "source": [
    "import numpy as np\n",
    "import cvxpy as cp\n",
    "import math\n",
    "import functools as fc\n",
    "from operator import mul\n",
    "\n",
    "import lib_non_local_games as nlg"
   ]
  },
  {
   "cell_type": "markdown",
   "metadata": {},
   "source": [
    "Check if Mosek is installed on the machine,"
   ]
  },
  {
   "cell_type": "code",
   "execution_count": 2,
   "metadata": {},
   "outputs": [],
   "source": [
    "if not 'MOSEK' in cp.installed_solvers():\n",
    "    raise RuntimeError('Please install MOSEK before running this notebook.')"
   ]
  },
  {
   "cell_type": "markdown",
   "metadata": {},
   "source": [
    "In this code, we would like to implement the semidefinite programmings (SDP) expressed in Eq.(15) in the paper https://arxiv.org/abs/2005.08883. As we briefly mentioned in the paper, it is better to explicitly exploit the classical structure of the optimisation variable $\\rho_{(A_1Q_1T)^{n_1}(A_2Q_2\\hat{T})^{n_2}(S\\hat{S})}$ for real implementations as it could reduce the size of the program significantly. For simplicity, we will denote $a_1, a_2$ as $a,b$ and $q_1,q_2$ as $x,y$ in this code. Then, the optimisation variable can be expressed as\n",
    "$$\\rho_{(A_1Q_1T)^{n_1}(A_2Q_2\\hat{T})^{n_2}(S\\hat{S})} = \\sum_{a^{n_1},b^{n_2},x^{n_1},y^{n_2}} \\vert a^{n_1},b^{n_2},x^{n_1},y^{n_2}\\rangle\\langle a^{n_1},b^{n_2},x^{n_1},y^{n_2}\\vert \\otimes \\rho_{T^{n_1}\\hat{T}^{n_2}S\\hat{S}}(a^{n_1},b^{n_2},x^{n_1},y^{n_2}),$$\n",
    "and the SDPs in Eq.(15) can be rewritten with the classical structure as\n",
    "$$ \\mbox{sdp}_{n_1,n_2} (V,\\pi,T) = |T|^2 \\max_{\\rho} \\sum_{a,b,x,y} V(a,b,x,y) \\, \\mbox{tr}\\left[\\Phi_{T\\hat{T}|S\\hat{S}} \\rho_{T\\hat{T}S\\hat{S}}(a,b,x,y)\\right]$$\n",
    "$$s.t. \\quad \\rho_{T^{n_1}\\hat{T}^{n_2}S\\hat{S}}(a^{n_1},b^{n_2},x^{n_1},y^{n_2}) \\geq 0 \\quad \\forall a^{n_1},b^{n_2},x^{n_1},y^{n_2}\\,, \\quad \\sum_{a^{n_1},b^{n_2},x^{n_1},y^{n_2}} \\mbox{tr}\\left[\\rho_{T^{n_1}\\hat{T}^{n_2}S\\hat{S}}(a^{n_1},b^{n_2},x^{n_1},y^{n_2})\\right]=1$$\n",
    "$$\\mbox{permutation invariance on }a^{n_1},x^{n_1}\\mbox{ and the system }T^{n_1}\\mbox{ with respect to the other systems}$$\n",
    "$$\\mbox{permutation invariance on }b^{n_2},y^{n_2}\\mbox{ and the system }\\hat{T}^{n_2}\\mbox{ with respect to the other systems}$$\n",
    "$$\\sum_{a}\\rho_{T^{n_1}\\hat{T}^{n_2}S\\hat{S}}(a^{n_1},b^{n_2},x^{n_1},y^{n_2}) = \\left(\\pi(x)\\frac{I_T}{|T|}\\right)\\otimes \\rho_{T^{n_1-1}\\hat{T}^{n_2}S\\hat{S}}(a^{n_1-1},b^{n_2},x^{n_1-1},y^{n_2})$$\n",
    "$$\\sum_{b}\\rho_{T^{n_1}\\hat{T}^{n_2}S\\hat{S}}(a^{n_1},b^{n_2},x^{n_1},y^{n_2}) = \\left(\\pi(y)\\frac{I_{\\hat{T}}}{|T|}\\right)\\otimes \\rho_{T^{n_1}\\hat{T}^{n_2-1}S\\hat{S}}(a^{n_1},b^{n_2-1},x^{n_1},y^{n_2-1})$$\n",
    "$$\\rho^{T_{(T^{n_1})}}_{T^{n_1}\\hat{T}^{n_2}S\\hat{S}}(a^{n_1},b^{n_2},x^{n_1},y^{n_2})\\geq0\\,, \\quad \\rho^{T_{(\\hat{T}^{n_2})}}_{T^{n_1}\\hat{T}^{n_2}S\\hat{S}}(a^{n_1},b^{n_2},x^{n_1},y^{n_2})\\geq0\\,, \\quad \\rho^{T_{(S\\hat{S})}}_{T^{n_1}\\hat{T}^{n_2}S\\hat{S}}(a^{n_1},b^{n_2},x^{n_1},y^{n_2})\\geq0, \\cdots$$"
   ]
  },
  {
   "cell_type": "markdown",
   "metadata": {},
   "source": [
    "We will firstly demonstrate the implementations of the first few levels with the CHSH game, and then show the numerical examples we described in Section 2 of the paper: the rule matrix $W$ and $I_{3322}$."
   ]
  },
  {
   "cell_type": "markdown",
   "metadata": {},
   "source": [
    "# CHSH game"
   ]
  },
  {
   "cell_type": "markdown",
   "metadata": {},
   "source": [
    "### Define the dimensions of the game"
   ]
  },
  {
   "cell_type": "code",
   "execution_count": 3,
   "metadata": {},
   "outputs": [],
   "source": [
    "dimA1 = 2\n",
    "dimA2 = 2\n",
    "dimQ1 = 2\n",
    "dimQ2 = 2\n",
    "dimT = 2\n",
    "dimS = 2 # always same as dimT"
   ]
  },
  {
   "cell_type": "markdown",
   "metadata": {},
   "source": [
    "### Inputs of the program\n",
    "\n",
    "- $V(a_1,a_2,q_1,q_2)$: CHSH rule function\n",
    "- $\\pi(q1,q2)$: the uniform distribution"
   ]
  },
  {
   "cell_type": "code",
   "execution_count": 4,
   "metadata": {},
   "outputs": [],
   "source": [
    "rule_function = nlg.CHSH_rule_function_A1Q1A2Q2\n",
    "\n",
    "probQ1 = (1/2,1/2)\n",
    "probQ2 = (1/2,1/2)"
   ]
  },
  {
   "cell_type": "markdown",
   "metadata": {},
   "source": [
    "## Linear programming ($|T|=1$)"
   ]
  },
  {
   "cell_type": "markdown",
   "metadata": {},
   "source": [
    "In this case, Alice and Bob do not have access to an assisting quantum system, and the problem boils down to the classical one. Each block $\\rho_{T^{n_1}\\hat{T}^{n_2}S\\hat{S}}(a^{n_1},b^{n_2},x^{n_1},y^{n_2})$ in the optimisation variable becomes a number depending on $a^{n_1},b^{n_2},x^{n_1},y^{n_2}$. This means that the whole variable becomes an extendible classical probability distribution $p(a^{n_1},b^{n_2},x^{n_1},y^{n_2})$, and the SDPs become linear programmings (LP). Since it is enough to extend only one part in the classical case, we can simplify the SDP hierarchy for $|T|=1$ as\n",
    "$$\\mbox{lp}_n (V,\\pi,1) = \\max_{p} \\sum_{a,b,x,y} V(a,b,x,y) \\, p(a,b,x,y)$$\n",
    "$$s.t. \\quad p(a,b^n,x,y^n) \\geq 0 \\quad \\forall a,b^n,x,y^n\\,, \\quad \\sum_{a,b^n,x,y^n} p(a,b^n,x,y^n)=1$$\n",
    "$$\\mbox{permutation invariance on }b^{n},y^{n}\\mbox{ with respect to } a,x$$\n",
    "$$\\sum_{a}p(a,b^n,x,y^n) = \\pi(x)\\,p(b^n,y^n)$$\n",
    "$$\\sum_{b}p(a,b^n,x,y^n) = \\pi(y)\\,p(a,b^{n-1},x,y^{n-1})$$"
   ]
  },
  {
   "cell_type": "markdown",
   "metadata": {},
   "source": [
    "Below, we will demonstrate how to implement these LPs for arbitrary level $n$."
   ]
  },
  {
   "cell_type": "code",
   "execution_count": 5,
   "metadata": {},
   "outputs": [],
   "source": [
    "subs_A1Q1 = (dimA1, dimQ1)\n",
    "subs_A2Q2 = (dimA2, dimQ2)"
   ]
  },
  {
   "cell_type": "markdown",
   "metadata": {},
   "source": [
    "The linear program,"
   ]
  },
  {
   "cell_type": "code",
   "execution_count": 6,
   "metadata": {},
   "outputs": [],
   "source": [
    "def CHSH_classical(rule_function,subs_A1Q1,subs_A2Q2,probQ1,probQ2,level=1):\n",
    "    \n",
    "    ## CLASSICAL CONSTRAINTS\n",
    "    constraints = []\n",
    "    classical_prob, BtI_ext = nlg.classical_constraints(constraints,subs_A1Q1,subs_A2Q2,probQ1,probQ2,level)\n",
    "    \n",
    "    ## OBJECTIVE FUNCTION\n",
    "    indices_A1Q1A2Q2 = nlg.indices_list(subs_A1Q1+subs_A2Q2)\n",
    "    indices_A2Q2_ext_but_one = nlg.indices_list(subs_A2Q2*(level-1))\n",
    "    \n",
    "    object_function = 0\n",
    "    \n",
    "    # The object function is\n",
    "    for index_A1Q1A2Q2 in indices_A1Q1A2Q2:\n",
    "        indices_a1q1a2q2_ext = nlg.fuse_arrays(np.array([index_A1Q1A2Q2]),indices_A2Q2_ext_but_one)\n",
    "        object_function += rule_function(*index_A1Q1A2Q2) * sum([classical_prob[BtI_ext(i)] for i in indices_a1q1a2q2_ext])\n",
    "    \n",
    "    ## PROBLEM\n",
    "    prob = cp.Problem(cp.Maximize(object_function), constraints)\n",
    "    result = prob.solve(solver='MOSEK')\n",
    "    \n",
    "    return result"
   ]
  },
  {
   "cell_type": "markdown",
   "metadata": {},
   "source": [
    "The first level (= the non-signalling value)"
   ]
  },
  {
   "cell_type": "code",
   "execution_count": 7,
   "metadata": {},
   "outputs": [
    {
     "data": {
      "text/plain": [
       "1.0000000010619423"
      ]
     },
     "execution_count": 7,
     "metadata": {},
     "output_type": "execute_result"
    }
   ],
   "source": [
    "CHSH_classical(rule_function,subs_A1Q1,subs_A2Q2,probQ1,probQ2)"
   ]
  },
  {
   "cell_type": "markdown",
   "metadata": {},
   "source": [
    "The second level"
   ]
  },
  {
   "cell_type": "code",
   "execution_count": 8,
   "metadata": {},
   "outputs": [
    {
     "data": {
      "text/plain": [
       "0.7500000000123551"
      ]
     },
     "execution_count": 8,
     "metadata": {},
     "output_type": "execute_result"
    }
   ],
   "source": [
    "CHSH_classical(rule_function,subs_A1Q1,subs_A2Q2,probQ1,probQ2,2)"
   ]
  },
  {
   "cell_type": "markdown",
   "metadata": {},
   "source": [
    "The third level"
   ]
  },
  {
   "cell_type": "code",
   "execution_count": 9,
   "metadata": {},
   "outputs": [
    {
     "data": {
      "text/plain": [
       "0.7500000000566547"
      ]
     },
     "execution_count": 9,
     "metadata": {},
     "output_type": "execute_result"
    }
   ],
   "source": [
    "CHSH_classical(rule_function,subs_A1Q1,subs_A2Q2,probQ1,probQ2,3)"
   ]
  },
  {
   "cell_type": "markdown",
   "metadata": {},
   "source": [
    "The forth level"
   ]
  },
  {
   "cell_type": "code",
   "execution_count": 10,
   "metadata": {},
   "outputs": [
    {
     "data": {
      "text/plain": [
       "0.7500000195656495"
      ]
     },
     "execution_count": 10,
     "metadata": {},
     "output_type": "execute_result"
    }
   ],
   "source": [
    "CHSH_classical(rule_function,subs_A1Q1,subs_A2Q2,probQ1,probQ2,4)"
   ]
  },
  {
   "cell_type": "markdown",
   "metadata": {},
   "source": [
    "## SDP(1,1)"
   ]
  },
  {
   "cell_type": "markdown",
   "metadata": {},
   "source": [
    "$\\mbox{sdp}_{2,1}$ can be explicitly written as\n",
    "$$ \\mbox{sdp}_{2,1} (V,\\pi,T) = |T|^2 \\max_{\\rho} \\sum_{a,b,x,y} V(a,b,x,y) \\, \\mbox{tr}\\left[\\Phi_{T\\hat{T}|S\\hat{S}} \\rho_{T\\hat{T}S\\hat{S}}(a,b,x,y)\\right]$$\n",
    "$$s.t. \\quad \\rho_{T_1T_2\\hat{T}S\\hat{S}}(a_1,a_2,b,x_1,x_2,y) \\geq 0 \\quad \\forall a_1,a_2,b,x_1,x_2,y\\,, \\quad \\sum_{a_1,a_2,b,x_1,x_2,y} \\mbox{tr}\\left[\\rho_{T_1T_2\\hat{T}S\\hat{S}}(a_1,a_2,b,x_1,x_2,y)\\right]=1$$\n",
    "$$\\left(F_{T_1|T_2}\\otimes I_{\\hat{T}S\\hat{S}}\\right) \\rho_{T_1T_2\\hat{T}S\\hat{S}}(a_2,a_1,b,x_2,x_1,y) \\left(F_{T_1|T_2}\\otimes I_{\\hat{T}S\\hat{S}}\\right) = \\rho_{T_1T_2\\hat{T}S\\hat{S}}(a_1,a_2,b,x_1,x_2,y)$$\n",
    "$$\\sum_{a_1}\\rho_{T_1T_2\\hat{T}S\\hat{S}}(a_1,a_2,b,x_1,x_2,y) = \\left(\\pi(x_1)\\frac{I_{T_1}}{|T|}\\right)\\otimes \\rho_{T_2\\hat{T}S\\hat{S}}(a_2,b,x_2,y)$$\n",
    "$$\\sum_{b}\\rho_{T_1T_2\\hat{T}S\\hat{S}}(a_1,a_2,b,x_1,x_2,y) = \\left(\\pi(y)\\frac{I_{\\hat{T}}}{|T|}\\right)\\otimes \\rho_{T_1T_2S\\hat{S}}(a_1,a_2,x_1,x_2)$$\n",
    "$$\\rho^{T_{T_1T_2}}_{T_1T_2\\hat{T}S\\hat{S}}(a_1,a_2,b,x_1,x_2,y)\\geq0\\,, \\quad \\rho^{T_{\\hat{T}}}_{T_1T_2\\hat{T}S\\hat{S}}(a_1,a_2,b,x_1,x_2,y)\\geq0\\,, \\quad \\rho^{T_{S\\hat{S}}}_{T_1T_2\\hat{T}S\\hat{S}}(a_1,a_2,b,x_1,x_2,y)\\geq0.$$"
   ]
  },
  {
   "cell_type": "markdown",
   "metadata": {},
   "source": [
    "### Variables and Functions"
   ]
  },
  {
   "cell_type": "code",
   "execution_count": 11,
   "metadata": {},
   "outputs": [],
   "source": [
    "# Subsystems A1 Q1 A2 Q2\n",
    "subs_AQ1_AQ2 = (dimA1,dimQ1,dimA2,dimQ2)\n",
    "indices_AQ1_AQ2 = nlg.indices_list(subs_AQ1_AQ2)\n",
    "\n",
    "# Subsystems T1 T2 S1 S2\n",
    "subs_T1_T2_S1_S2 = (dimT,dimT,dimS,dimS)\n",
    "dim_T1_T2_S1_S2 = fc.reduce(mul, subs_T1_T2_S1_S2, 1)\n",
    "\n",
    "# Subsystems T2 S1 S2\n",
    "subs_T2_S1_S2 = (dimT,dimS,dimS)\n",
    "dim_T2_S1_S2 = fc.reduce(mul, subs_T2_S1_S2, 1)\n",
    "\n",
    "# Subsystems Q1 A2 Q2\n",
    "subs_Q1_AQ2 = (dimQ1,dimA2,dimQ2)\n",
    "indices_Q1_AQ2 = nlg.indices_list(subs_Q1_AQ2)\n",
    "\n",
    "# Subsystems A1 Q1 Q2\n",
    "subs_AQ1_Q2 = (dimA1,dimQ1,dimQ2)\n",
    "indices_AQ1_Q2 = nlg.indices_list(subs_AQ1_Q2)\n",
    "\n",
    "# Subsystems A1 Q1\n",
    "subs_A1Q1 = (dimA1,dimQ1)\n",
    "indices_A1Q1 = nlg.indices_list(subs_A1Q1)\n",
    "\n",
    "# Subsystems A2 Q2\n",
    "subs_A2Q2 = (dimA2,dimQ2)\n",
    "indices_A2Q2 = nlg.indices_list(subs_A2Q2)\n",
    "\n",
    "# State on subsystem T\n",
    "rhoT = np.identity(dimT)/dimT\n",
    "\n",
    "dim_TT = dimT*dimT\n",
    "dim_SS = dimS*dimS\n",
    "dim_TSS = dimT*dimS*dimS\n",
    "\n",
    "# Maximally entangled vectors between T|S and TT|SS\n",
    "phi_TS = nlg.bipartite_unnorm_max_entangled_state(dimT)\n",
    "phi_TSTS = nlg.tensor([phi_TS,phi_TS])\n",
    "\n",
    "# Maximally entangled states between TT|SS (correct order of subsystems)\n",
    "Phi_TSTS = np.outer(phi_TSTS,phi_TSTS)\n",
    "P = nlg.permutation_matrix((0,1,2,3), (0,2,1,3), (dimT, dimS, dimT, dimS))\n",
    "Phi_TTSS = P @ Phi_TSTS @ P\n",
    "\n",
    "# A function which converts [a1,q1,a2,q2] to the corresponding index\n",
    "StI = lambda seq : nlg.seqtoint(seq, subs_AQ1_AQ2)"
   ]
  },
  {
   "cell_type": "markdown",
   "metadata": {},
   "source": [
    "### Optimisation"
   ]
  },
  {
   "cell_type": "code",
   "execution_count": 12,
   "metadata": {},
   "outputs": [],
   "source": [
    "## VARIABLES \n",
    "# The (sub-normalized) states we optimize over\n",
    "rho_TTSS = []\n",
    "for i in map(nlg.binarytoint,indices_AQ1_AQ2):\n",
    "    rho_TTSS.append( cp.Variable((dim_T1_T2_S1_S2,dim_T1_T2_S1_S2),symmetric=True) )\n",
    "\n",
    "    \n",
    "## OBJECTIVE FUNCTION\n",
    "# The object function is\n",
    "obj_fun_components = []\n",
    "for a1,q1,a2,q2 in indices_AQ1_AQ2:\n",
    "    v_a1q1a2q2 = cp.Constant( int(rule_function(a1,q1,a2,q2)) )\n",
    "    variable_TTSS = rho_TTSS[StI([a1,q1,a2,q2])]\n",
    "    obj_fun_components.append( v_a1q1a2q2 * cp.trace( cp.matmul(Phi_TTSS,variable_TTSS) ) )\n",
    "    \n",
    "object_function = cp.Constant(dimT**2) * sum(obj_fun_components)\n",
    "\n",
    "\n",
    "## CONSTRAINTS\n",
    "constraints = []\n",
    "\n",
    "# 1) rho_T1T2TSS are (sub-normalized) quantum states\n",
    "# 1a) trace of the sum is 1\n",
    "constraints.append( sum([cp.trace(rho_TTSS[i]) for i in map(StI,indices_AQ1_AQ2)]) - 1 == 0 )\n",
    "\n",
    "# 1b) positive semidefinite matrices\n",
    "for i in map(StI,indices_AQ1_AQ2):\n",
    "    constraints.append( rho_TTSS[i] >> 0 )\n",
    "\n",
    "# 2) First linear constraint\n",
    "for q1,a2,q2 in indices_Q1_AQ2:\n",
    "    indices_A1q1a2q2 = [StI([a1,q1,a2,q2]) for a1 in range(dimA1)]\n",
    "    indices_A1Q1a2q2 = [StI([a1,qq1,a2,q2]) for a1,qq1 in indices_A1Q1]\n",
    "    \n",
    "    lhs = sum([rho_TTSS[i] for i in indices_A1q1a2q2])\n",
    "    \n",
    "    rhs_variable = sum([rho_TTSS[i] for i in indices_A1Q1a2q2])\n",
    "    rhs_partial = nlg.partial_trace(rhs_variable, [dimT, dim_T2_S1_S2])\n",
    "    rhs = cp.Constant(probQ1[q1]) * cp.kron(cp.Constant(rhoT), rhs_partial)\n",
    "    \n",
    "    constraints.append( lhs - rhs == 0 )\n",
    "    \n",
    "# 3) Second linear constraint\n",
    "\n",
    "# The permutation matrix swaps T1 and T2\n",
    "P = cp.Constant(nlg.permutation_matrix((0,1,2,3), (1,0,2,3), subs_T1_T2_S1_S2))\n",
    "\n",
    "for a1,q1,q2 in indices_AQ1_Q2:\n",
    "    indices_a1q1A2q2 = [StI([a1,q1,a2,q2]) for a2 in range(dimA2)]\n",
    "    indices_a1q1A2Q2 = [StI([a1,q1,a2,qq2]) for a2,qq2 in indices_A2Q2]\n",
    "    \n",
    "    lhs_variable = sum([rho_TTSS[i] for i in indices_a1q1A2q2])\n",
    "    lhs = cp.matmul( cp.matmul(P,lhs_variable) , P )\n",
    "\n",
    "    rhs_variable = sum([rho_TTSS[i] for i in indices_a1q1A2Q2])\n",
    "    rhs_permuted = cp.matmul( cp.matmul(P,rhs_variable) , P )\n",
    "    rhs_partial = nlg.partial_trace(rhs_permuted, [dimT, dim_T2_S1_S2])\n",
    "    rhs = cp.Constant(probQ2[q2]) * cp.kron(cp.Constant(rhoT), rhs_partial)\n",
    "    \n",
    "    constraints.append( lhs - rhs == 0 )\n",
    "    \n",
    "# 4) PPT criterium\n",
    "for i in map(StI,indices_AQ1_AQ2):\n",
    "    constraints.append( nlg.partial_transpose(rho_TTSS[i],subs_T1_T2_S1_S2,(0,0,1,1)) >> 0 )\n",
    "    constraints.append( nlg.partial_transpose(rho_TTSS[i],subs_T1_T2_S1_S2,(1,0,0,0)) >> 0 )\n",
    "    constraints.append( nlg.partial_transpose(rho_TTSS[i],subs_T1_T2_S1_S2,(0,1,0,0)) >> 0 )\n",
    "\n",
    "# # 5) NPA style constraint (see PhysRevLett.98.010401)\n",
    "\n",
    "# # Introduce normalization factor\n",
    "# renorm = lambda x,y : dimT**2/(probQ1[x]*probQ2[y])\n",
    "\n",
    "# # The P matrix containing the information about the variables rho_TTSS is give by\n",
    "# P = []\n",
    "\n",
    "# for a1,q1 in indices_A1Q1:\n",
    "#     P_row = [renorm(q1,q2)*cp.trace(Phi_TTSS@rho_TTSS[nlg.binarytoint([a1,q1,a2,q2])])\n",
    "#              for a2,q2 in indices_A2Q2]\n",
    "#     P.append(P_row)\n",
    "\n",
    "# P = cp.bmat(P)\n",
    "\n",
    "# # The Q matrix containing information on the variables rho_TTSS and new variables as well\n",
    "# Q = []\n",
    "\n",
    "# for a1,q1 in indices_A1Q1:\n",
    "#     Q_row = []\n",
    "#     for a1p,q1p in indices_A1Q1:\n",
    "#         if q1 == q1p:\n",
    "#             if a1 == a1p:\n",
    "#                 val = sum([renorm(q1,q2)*cp.trace(Phi_TTSS@rho_TTSS[nlg.binarytoint([a1,q1,a2,q2])])\n",
    "#                            for a2,q2 in indices_A2Q2])/dimQ2\n",
    "#             else:\n",
    "#                 val = cp.Constant(0) # Assume projective measurements. Otherwise, cp.Variable()\n",
    "#         else:\n",
    "#             val = cp.Variable()\n",
    "#         Q_row.append(val)\n",
    "#     Q.append(Q_row)\n",
    "\n",
    "# Q = cp.bmat(Q)\n",
    "\n",
    "# # The R matrix containing information on the variables rho_TTSS and new variables as well\n",
    "# R = []\n",
    "\n",
    "# for a2,q2 in indices_A2Q2:\n",
    "#     R_row = []\n",
    "#     for a2p,q2p in indices_A2Q2:\n",
    "#         if q2 == q2p:\n",
    "#             if a2 == a2p:\n",
    "#                 val = sum([renorm(q1,q2)*cp.trace(Phi_TTSS@rho_TTSS[nlg.binarytoint([a1,q1,a2,q2])])\n",
    "#                            for a1,q1 in indices_A1Q1])/dimQ1\n",
    "#             else:\n",
    "#                 val = cp.Constant(0) # Assume projective measurements. Otherwise, cp.Variable()\n",
    "#         else:\n",
    "#             val = cp.Variable()\n",
    "#         R_row.append(val)\n",
    "#     R.append(R_row)\n",
    "\n",
    "# R = cp.bmat(R)\n",
    "\n",
    "# # Constructing vector v of dimension dimA1*dimQ1+dimA2*dimQ2\n",
    "# v = []\n",
    "\n",
    "# for a1,q1 in indices_A1Q1:\n",
    "#     v.append(sum([renorm(q1,q2)*cp.trace(Phi_TTSS@rho_TTSS[nlg.binarytoint([a1,q1,a2,q2])])\n",
    "#                   for a2,q2 in indices_A2Q2])/dimQ2)\n",
    "    \n",
    "# for a2,q2 in indices_A2Q2:\n",
    "#     v.append(sum([renorm(q1,q2)*cp.trace(Phi_TTSS@rho_TTSS[nlg.binarytoint([a1,q1,a2,q2])])\n",
    "#                   for a1,q1 in indices_A1Q1])/dimQ1)\n",
    "    \n",
    "# v = cp.bmat([v])\n",
    "# w = cp.vstack([cp.Constant([[1]]),v.T])\n",
    "\n",
    "# # Builiding the matrix M that should be positive semi-definite (NPA constraint)\n",
    "# M = cp.vstack([cp.hstack([Q,P]),cp.hstack([P.T,R])])\n",
    "# M = cp.vstack([v,M])\n",
    "# M = cp.hstack([w,M])\n",
    "      \n",
    "# constraints.append( M >> 0 )\n",
    "# constraints.append( M - M.T == 0 )\n",
    "\n",
    "# 6) Projective Constraint\n",
    "# Trace T constraint\n",
    "for a2,q2 in indices_A2Q2:\n",
    "    for a1,q1 in indices_A1Q1:\n",
    "        if a1==0 and q1==0:\n",
    "            fixed = nlg.partial_trace(rho_TTSS[StI([a1,q1,a2,q2])],[dimT,dim_TSS])/cp.Constant(probQ1[q1])\n",
    "        else:\n",
    "            var = nlg.partial_trace(rho_TTSS[StI([a1,q1,a2,q2])],[dimT,dim_TSS])/cp.Constant(probQ1[q1])\n",
    "            constraints.append(var-fixed == 0)\n",
    "\n",
    "# Trace \\hat{T} constraint\n",
    "for a1,q1 in indices_A1Q1:\n",
    "    for a2,q2 in indices_A2Q2:\n",
    "        rho_permuted = cp.matmul(cp.matmul(P,rho_TTSS[StI([a1,q1,a2,q2])]), P)\n",
    "        if a2==0 and q2==0:\n",
    "            fixed = nlg.partial_trace(rho_permuted,[dimT,dim_TSS])/cp.Constant(probQ2[q2])\n",
    "        else:\n",
    "            var = nlg.partial_trace(rho_permuted,[dimT,dim_TSS])/cp.Constant(probQ2[q2])\n",
    "            constraints.append(var-fixed == 0)\n",
    "\n",
    "# Trace T\\hat{T} constraint\n",
    "for a1,q1,a2,q2 in indices_AQ1_AQ2:\n",
    "    if a1==0 and q1==0 and a2==0 and q2==0:\n",
    "        fixed = nlg.partial_trace(rho_TTSS[StI([a1,q1,a2,q2])], [dim_TT, dim_SS])/cp.Constant(probQ1[q1]*probQ2[q2])\n",
    "    else:\n",
    "        var = nlg.partial_trace(rho_TTSS[StI([a1,q1,a2,q2])], [dim_TT, dim_SS])/cp.Constant(probQ1[q1]*probQ2[q2])\n",
    "        constraints.append(var-fixed == 0)\n",
    "        \n",
    "    \n",
    "# Write the problem\n",
    "prob11 = cp.Problem(cp.Maximize(object_function), constraints)"
   ]
  },
  {
   "cell_type": "markdown",
   "metadata": {},
   "source": [
    "### Solutions\n",
    "SDP(1,1)"
   ]
  },
  {
   "cell_type": "code",
   "execution_count": 14,
   "metadata": {},
   "outputs": [
    {
     "name": "stdout",
     "output_type": "stream",
     "text": [
      "1.000000003372841\n"
     ]
    }
   ],
   "source": [
    "SDP11 = prob11.solve(verbose=False,solver='MOSEK')\n",
    "print(SDP11)"
   ]
  },
  {
   "cell_type": "markdown",
   "metadata": {},
   "source": [
    "SDP(1,1) + PPT($T|\\hat{T}|S\\hat{S}$)"
   ]
  },
  {
   "cell_type": "code",
   "execution_count": 12,
   "metadata": {},
   "outputs": [
    {
     "name": "stdout",
     "output_type": "stream",
     "text": [
      "1.0000000002582694\n"
     ]
    }
   ],
   "source": [
    "SDP11_PPT = prob11.solve(verbose=False,solver='MOSEK')\n",
    "print(SDP11_PPT)"
   ]
  },
  {
   "cell_type": "markdown",
   "metadata": {},
   "source": [
    "SDP(1,1) + PPT($T|\\hat{T}|S\\hat{S}$) + NPA1(with the projective assumption)"
   ]
  },
  {
   "cell_type": "code",
   "execution_count": 19,
   "metadata": {},
   "outputs": [
    {
     "name": "stdout",
     "output_type": "stream",
     "text": [
      "0.8535533905973038\n"
     ]
    }
   ],
   "source": [
    "SDP11_PPT_NPA1proj = prob11.solve(verbose=False,solver='MOSEK')\n",
    "print(SDP11_PPT_NPA1proj)"
   ]
  },
  {
   "cell_type": "markdown",
   "metadata": {},
   "source": [
    "SDP(1,1) + PPT($T|\\hat{T}|S\\hat{S}$) + NPA1(without the projective assumption)"
   ]
  },
  {
   "cell_type": "code",
   "execution_count": 17,
   "metadata": {},
   "outputs": [
    {
     "name": "stdout",
     "output_type": "stream",
     "text": [
      "0.8535533907033661\n"
     ]
    }
   ],
   "source": [
    "SDP11_PPT_NPA1 = prob11.solve(verbose=False,solver='MOSEK')\n",
    "print(SDP11_PPT_NPA1)"
   ]
  },
  {
   "cell_type": "markdown",
   "metadata": {},
   "source": [
    "SDP(1,1) + PPT($T|\\hat{T}|S\\hat{S}$) + The projective measurement assumption"
   ]
  },
  {
   "cell_type": "code",
   "execution_count": 12,
   "metadata": {},
   "outputs": [
    {
     "name": "stdout",
     "output_type": "stream",
     "text": [
      "1.0000000025038778\n"
     ]
    }
   ],
   "source": [
    "SDP11_PPT_proj = prob11.solve(verbose=False,solver='MOSEK')\n",
    "print(SDP11_PPT_proj)"
   ]
  },
  {
   "cell_type": "markdown",
   "metadata": {},
   "source": [
    "## SDP(2,1)"
   ]
  },
  {
   "cell_type": "markdown",
   "metadata": {},
   "source": [
    "$\\mbox{sdp}_{2,2}$ can be explicitly written as\n",
    "$$ \\mbox{sdp}_{2,2} (V,\\pi,T) = |T|^2 \\max_{\\rho} \\sum_{a,b,x,y} V(a,b,x,y) \\, \\mbox{tr}\\left[\\Phi_{T\\hat{T}|S\\hat{S}} \\rho_{T\\hat{T}S\\hat{S}}(a,b,x,y)\\right]$$\n",
    "$$s.t. \\quad \\rho_{T_1T_2\\hat{T}_1\\hat{T}_2S\\hat{S}}(a_1,a_2,b_1,b_2,x_1,x_2,y_1,y_2) \\geq 0 \\quad \\forall a_1,a_2,b_1,b_2,x_1,x_2,y_1,y_2$$ $$\\sum_{a_1,a_2,b_1,b_2,x_1,x_2,y_1,y_2} \\mbox{tr}\\left[\\rho_{T_1T_2\\hat{T}_1\\hat{T}_2S\\hat{S}}(a_1,a_2,b_1,b_2,x_1,x_2,y_1,y_2)\\right]=1$$\n",
    "$$\\left(F_{T_1|T_2}\\otimes I_{\\hat{T}_1\\hat{T}_2S\\hat{S}}\\right) \\rho_{T_1T_2\\hat{T}_1\\hat{T}_2S\\hat{S}}(a_2,a_1,b_1,b_2,x_2,x_1,y_1,y_2) \\left(F_{T_1|T_2}\\otimes I_{\\hat{T}_1\\hat{T}_2S\\hat{S}}\\right) = \\rho_{T_1T_2\\hat{T}_1\\hat{T}_2S\\hat{S}}(a_1,a_2,b_1,b_2,x_1,x_2,y_1,y_2)$$\n",
    "$$\\left(F_{\\hat{T}_1|\\hat{T}_2}\\otimes I_{T_1T_2S\\hat{S}}\\right) \\rho_{T_1T_2\\hat{T}_1\\hat{T}_2S\\hat{S}}(a_1,a_2,b_2,b_1,x_1,x_2,y_2,y_1) \\left(F_{\\hat{T}_1|\\hat{T}_2}\\otimes I_{T_1T_2S\\hat{S}}\\right) = \\rho_{T_1T_2\\hat{T}_1\\hat{T}_2S\\hat{S}}(a_1,a_2,b_1,b_2,x_1,x_2,y_1,y_2)$$\n",
    "$$\\sum_{a_1}\\rho_{T_1T_2\\hat{T}_1\\hat{T}_2S\\hat{S}}(a_1,a_2,b_1,b_2,x_1,x_2,y_1,y_2) = \\left(\\pi(x_1)\\frac{I_{T_1}}{|T|}\\right)\\otimes \\rho_{T_2\\hat{T}_1\\hat{T}_2S\\hat{S}}(a_2,b_1,b_2,x_2,y_1,y_2)$$\n",
    "$$\\sum_{b_1}\\rho_{T_1T_2\\hat{T}_1\\hat{T}_2S\\hat{S}}(a_1,a_2,b_1,b_2,x_1,x_2,y_1,y_2) = \\left(\\pi(y_1)\\frac{I_{\\hat{T}_1}}{|T|}\\right)\\otimes \\rho_{T_1T_2\\hat{T}_2S\\hat{S}}(a_1,a_2,b_2,x_1,x_2,y_2)$$\n",
    "$$\\rho^{T_{T_1T_2}}_{T_1T_2\\hat{T}_1\\hat{T}_2S\\hat{S}}(a_1,a_2,b_1,b_2,x_1,x_2,y_1,y_2)\\geq0\\,, \\quad \\rho^{T_{\\hat{T}_1\\hat{T}_2}}_{T_1T_2\\hat{T}_1\\hat{T}_2S\\hat{S}}(a_1,a_2,b_1,b_2,x_1,x_2,y_1,y_2)\\geq0\\, \\quad \\rho^{T_{S\\hat{S}}}_{T_1T_2\\hat{T}_1\\hat{T}_2S\\hat{S}}(a_1,a_2,b_1,b_2,x_1,x_2,y_1,y_2)\\geq0.$$"
   ]
  },
  {
   "cell_type": "markdown",
   "metadata": {},
   "source": [
    "### Variables and Functions"
   ]
  },
  {
   "cell_type": "code",
   "execution_count": 20,
   "metadata": {},
   "outputs": [],
   "source": [
    "# Subsystems A1_1 A1_2 Q1_1 Q1_2 A2 Q2\n",
    "subs_AAQQ1_AQ2 = (dimA1,dimA1,dimQ1,dimQ1,dimA2,dimQ2)\n",
    "indices_AAQQ1_AQ2 = nlg.indices_list(subs_AAQQ1_AQ2)\n",
    "\n",
    "# Subsystems T1_1 T1_2 T2 S1 S2\n",
    "subs_TT1_T2_S1_S2 = (dimT,dimT,dimT,dimS,dimS)\n",
    "dim_TT1_T2_S1_S2 = fc.reduce(mul, subs_TT1_T2_S1_S2, 1)\n",
    "\n",
    "# Subsystems T1_* T2 S1 S2\n",
    "subs_T1_T2_S1_S2 = (dimT,dimT,dimS,dimS)\n",
    "dim_T1_T2_S1_S2 = fc.reduce(mul, subs_T1_T2_S1_S2, 1)\n",
    "\n",
    "# Subsystems A1_1 Q1_1 A2 Q2\n",
    "subs_A1Q1A2Q2 = (dimA1,dimQ1,dimA2,dimQ2)\n",
    "indices_A1Q1A2Q2 = nlg.indices_list(subs_A1Q1A2Q2)\n",
    "\n",
    "# Subsystems A1_1 A1_2 Q1_1 Q1_2\n",
    "subs_AAQQ1 = (dimA1,dimA1,dimQ1,dimQ1)\n",
    "indices_AAQQ1 = nlg.indices_list(subs_AAQQ1)\n",
    "\n",
    "# Subsystems A1_2 Q1_1 Q1_2 A2 Q2\n",
    "subs_AQQ1_AQ2 = (dimA1,dimQ1,dimQ1,dimA2,dimQ2)\n",
    "indices_AQQ1_AQ2 = nlg.indices_list(subs_AQQ1_AQ2)\n",
    "\n",
    "# Subsystems A1_1 A1_2 Q1_1 Q1_2 Q2\n",
    "subs_AAQQ1_Q2 = (dimA1,dimA1,dimQ1,dimQ1,dimQ2)\n",
    "indices_AAQQ1_Q2 = nlg.indices_list(subs_AAQQ1_Q2)\n",
    "\n",
    "# Subsystems A1 Q1\n",
    "subs_A1Q1 = (dimA1,dimQ1)\n",
    "indices_A1Q1 = nlg.indices_list(subs_A1Q1)\n",
    "\n",
    "# Subsystems A2 Q2\n",
    "subs_A2Q2 = (dimA2,dimQ2)\n",
    "indices_A2Q2 = nlg.indices_list(subs_A2Q2)\n",
    "\n",
    "# State on subsystem T\n",
    "rhoT = np.identity(dimT)/dimT\n",
    "\n",
    "# Maximally entangled vectors between T|S and TT|SS\n",
    "phi_TS = nlg.bipartite_unnorm_max_entangled_state(dimT)\n",
    "phi_TSTS = nlg.tensor([phi_TS,phi_TS])\n",
    "\n",
    "# Maximally mixed states between TT|SS (correct order of subsystems)\n",
    "Phi_TSTS = np.outer(phi_TSTS,phi_TSTS)\n",
    "P1 = nlg.permutation_matrix((0,1,2,3), (0,2,1,3), (dimT, dimS, dimT, dimS))\n",
    "Phi_TTSS = P1 @ Phi_TSTS @ P1\n",
    "\n",
    "# A function which converts [a1_1,a1_2,q1_1,q1_2,a2,q2] to the corresponding index\n",
    "StI = lambda seq : nlg.seqtoint(seq, subs_AAQQ1_AQ2)"
   ]
  },
  {
   "cell_type": "markdown",
   "metadata": {},
   "source": [
    "### Optimisation"
   ]
  },
  {
   "cell_type": "code",
   "execution_count": 21,
   "metadata": {},
   "outputs": [],
   "source": [
    "## VARIABLES \n",
    "# The (sub-normalized) states we optimize over\n",
    "rho_T1T2TSS = []\n",
    "for i in map(StI,indices_AAQQ1_AQ2):\n",
    "    rho_T1T2TSS.append( cp.Variable((dim_TT1_T2_S1_S2,dim_TT1_T2_S1_S2),symmetric=True) )\n",
    "\n",
    "    \n",
    "## OBJECTIVE FUNCTION\n",
    "# The swap operator takes T1_1 T1_2 T2 S1 S2 to S1 T1_2 S2 T1_1 T2 & Phi_TTTSS for the objective function\n",
    "F_TTTSS = cp.Constant(nlg.permutation_matrix((0,1,2,3,4), (3,1,4,0,2), subs_TT1_T2_S1_S2))\n",
    "Phi_TTTSS = nlg.partial_transpose(F_TTTSS, subs_TT1_T2_S1_S2, (0,0,0,1,1))\n",
    "\n",
    "# The object function is\n",
    "obj_fun_components = []\n",
    "for a1,q1,a2,q2 in indices_A1Q1A2Q2:\n",
    "    v_a1q1a2q2 = cp.Constant( int(rule_function(a1,q1,a2,q2)) )\n",
    "    variable_T1T2TSS = sum([rho_T1T2TSS[StI([a1,a,q1,q,a2,q2])] for a,q in indices_A1Q1])\n",
    "    obj_fun_components.append( v_a1q1a2q2 * cp.trace( cp.matmul(Phi_TTTSS,variable_T1T2TSS) ) )\n",
    "\n",
    "object_function = cp.Constant(dimT**2) * sum(obj_fun_components)\n",
    "\n",
    "\n",
    "## CONSTRAINTS\n",
    "constraints = []\n",
    "\n",
    "# 1) rho_T1T2TSS are (sub-normalized) quantum states\n",
    "# 1a) trace of the sum is 1\n",
    "constraints.append( sum([cp.trace(rho_T1T2TSS[i]) for i in map(StI,indices_AAQQ1_AQ2)]) - 1 == 0 )\n",
    "\n",
    "# 1b) positive semidefinite matrices\n",
    "for i in map(StI,indices_AAQQ1_AQ2):\n",
    "    constraints.append( rho_T1T2TSS[i] >> 0 )\n",
    "    \n",
    "# 2) Permutation invariance over A1_1 Q1_1 T1 and A1_2 Q1_2 T2\n",
    "\n",
    "# The permutation matrix swaps T1_1 and T1_2\n",
    "P = cp.Constant(nlg.permutation_matrix((0,1,2,3,4), (1,0,2,3,4), subs_TT1_T2_S1_S2))\n",
    "\n",
    "for a1,a,q1,q,a2,q2 in indices_AAQQ1_AQ2:\n",
    "    lhs = rho_T1T2TSS[StI([a1,a,q1,q,a2,q2])]\n",
    "    \n",
    "    rhs_variable = rho_T1T2TSS[StI([a,a1,q,q1,a2,q2])]\n",
    "    rhs = cp.matmul(cp.matmul(P,rhs_variable),P)\n",
    "    \n",
    "    constraints.append( lhs - rhs == 0 )\n",
    "\n",
    "# 3) First linear constraint\n",
    "for a,q1,q,a2,q2 in indices_AQQ1_AQ2:\n",
    "    indices_A1aq1qa2q2 = [StI([a1,a,q1,q,a2,q2]) for a1 in range(dimA1)]\n",
    "    indices_A1aQ1qa2q2 = [StI([a1,a,qq1,q,a2,q2]) for a1,qq1 in indices_A1Q1]\n",
    "    \n",
    "    lhs = sum([rho_T1T2TSS[i] for i in indices_A1aq1qa2q2])\n",
    "    \n",
    "    rhs_variable = sum([rho_T1T2TSS[i] for i in indices_A1aQ1qa2q2])\n",
    "    rhs_partial = nlg.partial_trace(rhs_variable, [dimT, dim_T1_T2_S1_S2])\n",
    "    rhs = cp.Constant(probQ1[q1]) * cp.kron(cp.Constant(rhoT), rhs_partial)\n",
    "    \n",
    "    constraints.append( lhs - rhs == 0 )\n",
    "    \n",
    "# 4) Second linear constraint\n",
    "\n",
    "# The permutation matrix swaps T1_1 and T2\n",
    "P = cp.Constant(nlg.permutation_matrix((0,1,2,3,4), (2,1,0,3,4), subs_TT1_T2_S1_S2))\n",
    "\n",
    "for a1,a,q1,q,q2 in indices_AAQQ1_Q2:\n",
    "    indices_a1aq1qA2q2 = [StI([a1,a,q1,q,a2,q2]) for a2 in range(dimA2)]\n",
    "    indices_a1aq1qA2Q2 = [StI([a1,a,q1,q,a2,qq2]) for a2,qq2 in indices_A2Q2]\n",
    "    \n",
    "    lhs_variable = sum([rho_T1T2TSS[i] for i in indices_a1aq1qA2q2])\n",
    "    lhs = cp.matmul( cp.matmul(P,lhs_variable) , P )\n",
    "    \n",
    "    rhs_variable = sum([rho_T1T2TSS[i] for i in indices_a1aq1qA2Q2])\n",
    "    rhs_permuted = cp.matmul( cp.matmul(P,rhs_variable) , P )\n",
    "    rhs_partial = nlg.partial_trace(rhs_permuted, [dimT, dim_T1_T2_S1_S2])\n",
    "    rhs = cp.Constant(probQ2[q2]) * cp.kron(cp.Constant(rhoT), rhs_partial)\n",
    "    \n",
    "    constraints.append( lhs - rhs == 0 )\n",
    "    \n",
    "# 5) PPT criterium\n",
    "for i in map(StI,indices_AAQQ1_AQ2):\n",
    "    constraints.append( nlg.partial_transpose(rho_T1T2TSS[i],subs_TT1_T2_S1_S2,(0,0,0,1,1)) >> 0 )\n",
    "    constraints.append( nlg.partial_transpose(rho_T1T2TSS[i],subs_TT1_T2_S1_S2,(1,1,0,0,0)) >> 0 )\n",
    "    constraints.append( nlg.partial_transpose(rho_T1T2TSS[i],subs_TT1_T2_S1_S2,(0,0,1,0,0)) >> 0 )\n",
    "    constraints.append( nlg.partial_transpose(rho_T1T2TSS[i],subs_TT1_T2_S1_S2,(1,0,0,0,0)) >> 0 ) # More PPT\n",
    "    constraints.append( nlg.partial_transpose(rho_T1T2TSS[i],subs_TT1_T2_S1_S2,(0,1,0,0,0)) >> 0 ) # More PPT\n",
    "    \n",
    "# 6) NPA style constraint (see PhysRevLett.98.010401)\n",
    "\n",
    "# Introduce normalization factor\n",
    "renorm = lambda x,y : dimT**2/(probQ1[x]*probQ2[y])\n",
    "\n",
    "# The P matrix containing the information about the variables rho_TTSS is give by\n",
    "P = []\n",
    "\n",
    "for a1,q1 in indices_A1Q1:\n",
    "    P_row = [renorm(q1,q2)*cp.trace(Phi_TTTSS@sum([rho_T1T2TSS[StI([a1,a,q1,q,a2,q2])] for a,q in indices_A1Q1]))\n",
    "             for a2,q2 in indices_A2Q2]\n",
    "    P.append(P_row)\n",
    "\n",
    "P = cp.bmat(P)\n",
    "\n",
    "# The Q matrix containing information on the variables rho_TTSS and new variables as well\n",
    "Q = []\n",
    "\n",
    "for a1,q1 in indices_A1Q1:\n",
    "    Q_row = []\n",
    "    for a1p,q1p in indices_A1Q1:\n",
    "        if q1 == q1p:\n",
    "            if a1 == a1p:\n",
    "                val = sum([renorm(q1,q2)*cp.trace(Phi_TTTSS@rho_T1T2TSS[StI([a1,a,q1,q,a2,q2])])\n",
    "                           for a,q,a2,q2 in indices_A1Q1A2Q2])/dimQ2\n",
    "            else:\n",
    "                val = cp.Constant(0) # Assume projective measurements. Otherwise, cp.Variable()\n",
    "        else:\n",
    "            val = cp.Variable()\n",
    "        Q_row.append(val)\n",
    "    Q.append(Q_row)\n",
    "\n",
    "Q = cp.bmat(Q)\n",
    "\n",
    "# The R matrix containing information on the variables rho_TTSS and new variables as well\n",
    "R = []\n",
    "\n",
    "for a2,q2 in indices_A2Q2:\n",
    "    R_row = []\n",
    "    for a2p,q2p in indices_A2Q2:\n",
    "        if q2 == q2p:\n",
    "            if a2 == a2p:\n",
    "                val = sum([renorm(q1,q2)*cp.trace(Phi_TTTSS@rho_T1T2TSS[StI([a1,a,q1,q,a2,q2])])\n",
    "                           for a1,a,q1,q in indices_AAQQ1])/dimQ1\n",
    "            else:\n",
    "                val = cp.Constant(0) # Assume projective measurements. Otherwise, cp.Variable()\n",
    "        else:\n",
    "            val = cp.Variable()\n",
    "        R_row.append(val)\n",
    "    R.append(R_row)\n",
    "\n",
    "R = cp.bmat(R)\n",
    "\n",
    "# Constructing vector v of dimension dimA1*dimQ1+dimA2*dimQ2\n",
    "v = []\n",
    "\n",
    "for a1,q1 in indices_A1Q1:\n",
    "    v.append(sum([renorm(q1,q2)*cp.trace(Phi_TTTSS@rho_T1T2TSS[StI([a1,a,q1,q,a2,q2])])\n",
    "                  for a,q,a2,q2 in indices_A1Q1A2Q2])/dimQ2)\n",
    "    \n",
    "for a2,q2 in indices_A2Q2:\n",
    "    v.append(sum([renorm(q1,q2)*cp.trace(Phi_TTTSS@rho_T1T2TSS[StI([a1,a,q1,q,a2,q2])])\n",
    "                  for a1,a,q1,q in indices_AAQQ1])/dimQ1)\n",
    "    \n",
    "v = cp.bmat([v])\n",
    "w = cp.vstack([cp.Constant([[1]]),v.T])\n",
    "\n",
    "# Builiding the matrix M that should be positive semi-definite (NPA constraint)\n",
    "M = cp.vstack([cp.hstack([Q,P]),cp.hstack([P.T,R])])\n",
    "M = cp.vstack([v,M])\n",
    "M = cp.hstack([w,M])\n",
    "      \n",
    "constraints.append( M >> 0 )\n",
    "constraints.append( M - M.T == 0 )\n",
    "    \n",
    "# Write the problem\n",
    "prob21 = cp.Problem(cp.Maximize(object_function), constraints)"
   ]
  },
  {
   "cell_type": "markdown",
   "metadata": {},
   "source": [
    "SDP(2,1)"
   ]
  },
  {
   "cell_type": "code",
   "execution_count": 23,
   "metadata": {},
   "outputs": [
    {
     "name": "stdout",
     "output_type": "stream",
     "text": [
      "0.8943379085701879\n"
     ]
    }
   ],
   "source": [
    "SDP21 = prob21.solve(verbose=False, solver='MOSEK')\n",
    "print(SDP21)"
   ]
  },
  {
   "cell_type": "markdown",
   "metadata": {},
   "source": [
    "SDP(2,1) + PPT($T_1T_2|\\hat{T}|S\\hat{S}$)"
   ]
  },
  {
   "cell_type": "code",
   "execution_count": 26,
   "metadata": {},
   "outputs": [
    {
     "name": "stdout",
     "output_type": "stream",
     "text": [
      "0.8750001416919456\n"
     ]
    }
   ],
   "source": [
    "SDP21_PPT = prob21.solve(verbose=False, solver='MOSEK')\n",
    "print(SDP21_PPT)"
   ]
  },
  {
   "cell_type": "markdown",
   "metadata": {},
   "source": [
    "SDP(2,1) + PPT($T_1T_2|\\hat{T}|S\\hat{S}$) + more PPT : it seems like more PPT doesn't help"
   ]
  },
  {
   "cell_type": "code",
   "execution_count": 22,
   "metadata": {},
   "outputs": [
    {
     "name": "stdout",
     "output_type": "stream",
     "text": [
      "0.8750000014889912\n"
     ]
    }
   ],
   "source": [
    "SDP21_PPTmore_NPA1 = prob21.solve(verbose=False, solver='MOSEK')\n",
    "print(SDP21_PPTmore_NPA1)"
   ]
  },
  {
   "cell_type": "markdown",
   "metadata": {},
   "source": [
    "SDP(2,1) + PPT($T_1T_2|\\hat{T}|S\\hat{S}$) + NPA1(with the projective assumption)"
   ]
  },
  {
   "cell_type": "code",
   "execution_count": 29,
   "metadata": {},
   "outputs": [
    {
     "name": "stdout",
     "output_type": "stream",
     "text": [
      "0.8535533908073588\n"
     ]
    }
   ],
   "source": [
    "SDP21_PPT_NPA1proj = prob21.solve(verbose=False, solver='MOSEK')\n",
    "print(SDP21_PPT_NPA1proj)"
   ]
  },
  {
   "cell_type": "markdown",
   "metadata": {},
   "source": [
    "SDP(2,1) + PPT($T_1T_2|\\hat{T}|S\\hat{S}$) + NPA1(without the projective assumption)"
   ]
  },
  {
   "cell_type": "code",
   "execution_count": 31,
   "metadata": {},
   "outputs": [
    {
     "name": "stdout",
     "output_type": "stream",
     "text": [
      "0.8535533907509064\n"
     ]
    }
   ],
   "source": [
    "SDP21_PPT_NPA1 = prob21.solve(verbose=False, solver='MOSEK')\n",
    "print(SDP21_PPT_NPA1)"
   ]
  },
  {
   "cell_type": "markdown",
   "metadata": {},
   "source": [
    "Up to this point, I could run the codes with my laptop (8Gb RAM)."
   ]
  },
  {
   "cell_type": "markdown",
   "metadata": {},
   "source": [
    "## SDP(2,2)"
   ]
  },
  {
   "cell_type": "markdown",
   "metadata": {},
   "source": [
    "### Variables and Functions"
   ]
  },
  {
   "cell_type": "code",
   "execution_count": 32,
   "metadata": {},
   "outputs": [],
   "source": [
    "# Subsystems A1_1 A1_2 Q1_1 Q1_2 A2_1 A2_2 Q2_1 Q2_2\n",
    "subs_AAQQ1_AAQQ2 = (dimA1,dimA1,dimQ1,dimQ1,dimA2,dimA2,dimQ2,dimQ2)\n",
    "indices_AAQQ1_AAQQ2 = nlg.indices_list(subs_AAQQ1_AAQQ2)\n",
    "\n",
    "# Subsystems A1 Q1 A2 Q2\n",
    "subs_AQ1_AQ2 = (dimA1,dimQ1,dimA2,dimQ2)\n",
    "indices_AQ1_AQ2 = nlg.indices_list(subs_AQ1_AQ2)\n",
    "\n",
    "# Subsystems T1_1 T1_2 T2_1 T2_2 S1 S2\n",
    "subs_TT1_TT2_SS = (dimT,dimT,dimT,dimT,dimS,dimS)\n",
    "dim_TT1_TT2_SS = fc.reduce(mul, subs_TT1_TT2_SS, 1)\n",
    "\n",
    "# Subsystems T*_1 T1_2 T2_2 S1 S2\n",
    "subs_TTT_SS = (dimT,dimT,dimT,dimS,dimS)\n",
    "dim_TTT_SS = fc.reduce(mul, subs_TTT_SS, 1)\n",
    "\n",
    "# Subsystems A1_2 Q1_1 Q1_2 A2_1 A2_2 Q2_1 Q2_2\n",
    "subs_AQQ1_AAQQ2 = (dimA1,dimQ1,dimQ1,dimA2,dimA2,dimQ2,dimQ2)\n",
    "indices_AQQ1_AAQQ2 = nlg.indices_list(subs_AQQ1_AAQQ2)\n",
    "\n",
    "# Subsystems A1_2 Q1_2 A2_1 A2_2 Q2_1 Q2_2\n",
    "subs_AQ1_AAQQ2 = (dimA1,dimQ1,dimA2,dimA2,dimQ2,dimQ2)\n",
    "indices_AQ1_AAQQ2 = nlg.indices_list(subs_AQ1_AAQQ2)\n",
    "\n",
    "# Subsystems A1 Q1\n",
    "subs_AQ1 = (dimA1,dimQ1)\n",
    "indices_AQ1 = nlg.indices_list(subs_AQ1)\n",
    "\n",
    "# Subsystems A1_1 A1_2 Q1_1 Q1_2 A2_2 Q2_1 Q2_2\n",
    "subs_AAQQ1_AQQ2 = (dimA1,dimA1,dimQ1,dimQ1,dimA2,dimQ2,dimQ2)\n",
    "indices_AAQQ1_AQQ2 = nlg.indices_list(subs_AAQQ1_AQQ2)\n",
    "\n",
    "# Subsystems A1_1 A1_2 Q1_1 Q1_2 A2_2 Q2_2\n",
    "subs_AAQQ1_AQ2 = (dimA1,dimA1,dimQ1,dimQ1,dimA2,dimQ2)\n",
    "indices_AAQQ1_AQ2 = nlg.indices_list(subs_AAQQ1_AQ2)\n",
    "\n",
    "# Subsystems A2 Q2\n",
    "subs_AQ2 = (dimA2,dimQ2)\n",
    "indices_AQ2 = nlg.indices_list(subs_AQ2)\n",
    "\n",
    "# Subsystems T*_1 T*_2\n",
    "subs_TT = (dimT,dimT)\n",
    "dim_TT = fc.reduce(mul, subs_TT, 1)\n",
    "\n",
    "# Subsystems T1_1 T2_1 S1 S2\n",
    "subs_TT_SS = (dimT,dimT,dimS,dimS)\n",
    "dim_TT_SS = fc.reduce(mul, subs_TT_SS, 1)\n",
    "\n",
    "# State on subsystem T\n",
    "rhoT = np.identity(dimT)/dimT\n",
    "\n",
    "# A function which converts [a1_1,a1_2,q1_1,q1_2,a2_1,a2_2,q2_1,q2_2] to the corresponding index\n",
    "StI = lambda seq : nlg.seqtoint(seq, subs_AAQQ1_AAQQ2)"
   ]
  },
  {
   "cell_type": "code",
   "execution_count": 34,
   "metadata": {},
   "outputs": [],
   "source": [
    "# VARIABLES \n",
    "# The (sub-normalized) states we optimize over\n",
    "rho_TTTTSS = []\n",
    "shape_TTTTSS = (dim_TT1_TT2_SS, dim_TT1_TT2_SS)\n",
    "\n",
    "for i in map(StI,indices_AAQQ1_AAQQ2):\n",
    "    rho_TTTTSS.append( cp.Variable(shape_TTTTSS,symmetric=True) )\n",
    "\n",
    "    \n",
    "## OBJECTIVE FUNCTION\n",
    "# The swap operator takes T1_1 T1_2 T2_1 T2_2 S1 S2 to S1 T1_2 S2 T2_2 T1_1 T2_1 & Phi_TTTTSS for the objective function\n",
    "F_TTTTSS = cp.Constant(nlg.permutation_matrix((0,1,2,3,4,5), (4,1,5,3,0,2), subs_TT1_TT2_SS))\n",
    "Phi_TTTTSS = nlg.partial_transpose(F_TTTTSS, subs_TT1_TT2_SS, (0,0,0,0,1,1))\n",
    "\n",
    "# The object function is\n",
    "obj_fun_components = []\n",
    "\n",
    "for a1,q1,a2,q2 in indices_AQ1_AQ2:\n",
    "    v_a1q1a2q2 = int( rule_function(a1,q1,a2,q2) )\n",
    "    variable_TTTTSS = sum([rho_TTTTSS[StI([a1,aa1,q1,qq1,a2,aa2,q2,qq2])] for aa1,qq1,aa2,qq2 in indices_AQ1_AQ2])\n",
    "    obj_fun_components.append( v_a1q1a2q2 * cp.trace( cp.matmul(Phi_TTTTSS,variable_TTTTSS) ) )\n",
    "    \n",
    "object_function = cp.Constant(dimT**2) * sum(obj_fun_components)\n",
    "\n",
    "\n",
    "## CONSTRAINTS\n",
    "constraints = []\n",
    "\n",
    "# 1) rho_TTTTSS are (sub-normalized) quantum states\n",
    "# 1a) trace of the sum is 1\n",
    "trace_rho = sum([cp.trace(rho_TTTTSS[i]) for i in map(StI,indices_AAQQ1_AAQQ2)])\n",
    "constraints.append( trace_rho - 1 == 0 )\n",
    "\n",
    "# 1b) positive semidefinite matrices\n",
    "for i in map(StI,indices_AAQQ1_AAQQ2):\n",
    "    constraints.append( rho_TTTTSS[i] >> 0 )\n",
    "\n",
    "# 2) Permutation invariance\n",
    "# 2a) over A1_1 Q1_1 T1_1 and A1_2 Q1_2 T1_2\n",
    "\n",
    "# The permutation matrix swaps T1_1 and T1_2\n",
    "P = nlg.permutation_matrix((0,1,2,3,4,5), (1,0,2,3,4,5), subs_TT1_TT2_SS)\n",
    "\n",
    "for a1,aa1,q1,qq1,a2,aa2,q2,qq2 in indices_AAQQ1_AAQQ2:\n",
    "    lhs = rho_TTTTSS[StI([a1,aa1,q1,qq1,a2,aa2,q2,qq2])]\n",
    "    \n",
    "    rhs_variable = rho_TTTTSS[StI([aa1,a1,qq1,q1,a2,aa2,q2,qq2])]\n",
    "    rhs = cp.matmul(cp.matmul(P,rhs_variable),P)\n",
    "    \n",
    "    constraints.append( lhs - rhs == 0 )\n",
    "\n",
    "# 2b) over A2_1 Q2_1 T2_1 and A2_2 Q2_2 T2_2\n",
    "\n",
    "# The permutation matrix swaps T2_1 and T2_2\n",
    "P = nlg.permutation_matrix((0,1,2,3,4,5), (0,1,3,2,4,5), subs_TT1_TT2_SS)\n",
    "\n",
    "for a1,aa1,q1,qq1,a2,aa2,q2,qq2 in indices_AAQQ1_AAQQ2:\n",
    "    lhs = rho_TTTTSS[StI([a1,aa1,q1,qq1,a2,aa2,q2,qq2])]\n",
    "    \n",
    "    rhs_variable = rho_TTTTSS[StI([a1,aa1,q1,qq1,aa2,a2,qq2,q2])]\n",
    "    rhs = cp.matmul(cp.matmul(P,rhs_variable),P)\n",
    "    \n",
    "    constraints.append( lhs - rhs == 0 )\n",
    "\n",
    "# 3) First linear constraint\n",
    "for aa1,q1,qq1,a2,aa2,q2,qq2 in indices_AQQ1_AAQQ2:\n",
    "    indices_A1aa1q1qq1a2aa2q2qq2 = [StI([a,aa1,q1,qq1,a2,aa2,q2,qq2]) for a in range(dimA1)]\n",
    "    indices_A1aa1Q1qq1a2aa2q2qq2 = [StI([a,aa1,q,qq1,a2,aa2,q2,qq2]) for a,q in indices_AQ1]\n",
    "\n",
    "    lhs = sum([rho_TTTTSS[i] for i in indices_A1aa1q1qq1a2aa2q2qq2])\n",
    "\n",
    "    rhs_variable = sum([rho_TTTTSS[i] for i in indices_A1aa1Q1qq1a2aa2q2qq2])\n",
    "    rhs_partial = nlg.partial_trace(rhs_variable, [dimT, dim_TTT_SS])\n",
    "    rhs = probQ1[q1] * cp.kron(rhoT, rhs_partial)\n",
    "    \n",
    "    constraints.append( lhs - rhs == 0 )\n",
    "\n",
    "# 4) Second linear constraint\n",
    "\n",
    "# The permutation matrix swaps T1_1 and T2_1\n",
    "P = cp.Constant(nlg.permutation_matrix((0,1,2,3,4,5), (2,1,0,3,4,5), subs_TT1_TT2_SS))\n",
    "\n",
    "for a1,aa1,q1,qq1,aa2,q2,qq2 in indices_AAQQ1_AQQ2:\n",
    "    indices_a1aa1q1qq1A2aa2q2qq2 = [StI([a1,aa1,q1,qq1,a,aa2,q2,qq2]) for a in range(dimA2)]\n",
    "    indices_a1aa1q1qq1A2aa2Q2qq2 = [StI([a1,aa1,q1,qq1,a,aa2,q,qq2]) for a,q in indices_AQ2]\n",
    "\n",
    "    lhs_variable = sum([rho_TTTTSS[i] for i in indices_a1aa1q1qq1A2aa2q2qq2])\n",
    "    lhs = cp.matmul(cp.matmul(P,lhs_variable),P)\n",
    "\n",
    "    rhs_variable = sum([rho_TTTTSS[i] for i in indices_a1aa1q1qq1A2aa2Q2qq2])\n",
    "    rhs_permuted = cp.matmul(cp.matmul(P,rhs_variable),P)\n",
    "    rhs_partial = nlg.partial_trace(rhs_permuted, [dimT, dim_TTT_SS])\n",
    "    rhs = probQ2[q2] * cp.kron(rhoT, rhs_partial)\n",
    "\n",
    "    constraints.append( lhs - rhs == 0 )\n",
    "\n",
    "# 5) PPT criterium\n",
    "for i in map(StI,indices_AAQQ1_AAQQ2):\n",
    "    constraints.append( nlg.partial_transpose(rho_TTTTSS[i],subs_TT1_TT2_SS,(0,0,0,0,1,1)) >> 0 ) # PPT1\n",
    "    constraints.append( nlg.partial_transpose(rho_TTTTSS[i],subs_TT1_TT2_SS,(1,1,0,0,0,0)) >> 0 ) # PPT2\n",
    "    constraints.append( nlg.partial_transpose(rho_TTTTSS[i],subs_TT1_TT2_SS,(0,0,1,1,0,0)) >> 0 ) # PPT3\n",
    "\n",
    "# 6) NPA style constraint (see PhysRevLett.98.010401)\n",
    "\n",
    "# Introduce normalization factor\n",
    "renorm = lambda x,y : dimT**2/(probQ1[x]*probQ2[y])\n",
    "\n",
    "# The P matrix containing the information about the variables rho_TTSS is give by\n",
    "P = []\n",
    "\n",
    "for a1,q1 in indices_AQ1:\n",
    "    P_row = [renorm(q1,q2)*cp.trace(Phi_TTTTSS@sum([rho_TTTTSS[StI([a1,a,q1,q,a2,aa,q2,qq])] for a,q,aa,qq in indices_AQ1_AQ2]))\n",
    "             for a2,q2 in indices_A2Q2]\n",
    "    P.append(P_row)\n",
    "\n",
    "P = cp.bmat(P)\n",
    "\n",
    "# The Q matrix containing information on the variables rho_TTSS and new variables as well\n",
    "Q = []\n",
    "\n",
    "for a1,q1 in indices_AQ1:\n",
    "    Q_row = []\n",
    "    for a1p,q1p in indices_AQ1:\n",
    "        if q1 == q1p:\n",
    "            if a1 == a1p:\n",
    "                val = sum([renorm(q1,q2)*cp.trace(Phi_TTTTSS@rho_TTTTSS[StI([a1,a,q1,q,a2,aa,q2,qq])])\n",
    "                           for a,q,a2,aa,q2,qq in indices_AQ1_AAQQ2])/dimQ2\n",
    "            else:\n",
    "                val = cp.Constant(0) # Assume projective measurements. Otherwise, cp.Variable()\n",
    "        else:\n",
    "            val = cp.Variable()\n",
    "        Q_row.append(val)\n",
    "    Q.append(Q_row)\n",
    "\n",
    "Q = cp.bmat(Q)\n",
    "\n",
    "# The R matrix containing information on the variables rho_TTSS and new variables as well\n",
    "R = []\n",
    "\n",
    "for a2,q2 in indices_AQ2:\n",
    "    R_row = []\n",
    "    for a2p,q2p in indices_AQ2:\n",
    "        if q2 == q2p:\n",
    "            if a2 == a2p:\n",
    "                val = sum([renorm(q1,q2)*cp.trace(Phi_TTTTSS@rho_TTTTSS[StI([a1,a,q1,q,a2,aa,q2,qq])])\n",
    "                           for a1,a,q1,q,aa,qq in indices_AAQQ1_AQ2])/dimQ1\n",
    "            else:\n",
    "                val = cp.Constant(0) # Assume projective measurements. Otherwise, cp.Variable()\n",
    "        else:\n",
    "            val = cp.Variable()\n",
    "        R_row.append(val)\n",
    "    R.append(R_row)\n",
    "\n",
    "R = cp.bmat(R)\n",
    "\n",
    "# Constructing vector v of dimension dimA1*dimQ1+dimA2*dimQ2\n",
    "v = []\n",
    "\n",
    "for a1,q1 in indices_AQ1:\n",
    "    v.append(sum([renorm(q1,q2)*cp.trace(Phi_TTTTSS@rho_TTTTSS[StI([a1,a,q1,q,a2,aa,q2,qq])])\n",
    "                  for a,q,a2,aa,q2,qq in indices_AQ1_AAQQ2])/dimQ2)\n",
    "    \n",
    "for a2,q2 in indices_AQ2:\n",
    "    v.append(sum([renorm(q1,q2)*cp.trace(Phi_TTTTSS@rho_TTTTSS[StI([a1,a,q1,q,a2,aa,q2,qq])])\n",
    "                  for a1,a,q1,q,aa,qq in indices_AAQQ1_AQ2])/dimQ1)\n",
    "    \n",
    "v = cp.bmat([v])\n",
    "w = cp.vstack([cp.Constant([[1]]),v.T])\n",
    "\n",
    "# Builiding the matrix M that should be positive semi-definite (NPA constraint)\n",
    "M = cp.vstack([cp.hstack([Q,P]),cp.hstack([P.T,R])])\n",
    "M = cp.vstack([v,M])\n",
    "M = cp.hstack([w,M])\n",
    "      \n",
    "constraints.append( M >> 0 )\n",
    "constraints.append( M - M.T == 0 )\n",
    "    \n",
    "## PROBLEM\n",
    "\n",
    "# Write the problem\n",
    "prob22 = cp.Problem(cp.Maximize(object_function), constraints)"
   ]
  },
  {
   "cell_type": "markdown",
   "metadata": {},
   "source": [
    "SDP(2,2)"
   ]
  },
  {
   "cell_type": "code",
   "execution_count": null,
   "metadata": {},
   "outputs": [],
   "source": [
    "SDP22 = prob22.solve(verbose=False, solver='MOSEK')"
   ]
  },
  {
   "cell_type": "markdown",
   "metadata": {},
   "source": [
    "SDP22 = 0.8792120993330009\n",
    "\n",
    "The top memory requirement was 229Gb. I ran it with the computing department computer (500Gb RAM)."
   ]
  },
  {
   "cell_type": "markdown",
   "metadata": {},
   "source": [
    "=================================================================\n",
    "\n",
    "From here, even a 500gb RAM computer is not enough."
   ]
  },
  {
   "cell_type": "code",
   "execution_count": null,
   "metadata": {},
   "outputs": [],
   "source": [
    "SDP22_PPT = prob22.solve(verbose=False, solver='MOSEK')\n",
    "print(SDP22)"
   ]
  },
  {
   "cell_type": "code",
   "execution_count": null,
   "metadata": {},
   "outputs": [],
   "source": []
  },
  {
   "cell_type": "markdown",
   "metadata": {},
   "source": [
    "## SDP(3,1)"
   ]
  },
  {
   "cell_type": "markdown",
   "metadata": {},
   "source": [
    "$\\mbox{sdp}_{3,1}$ can be written explicitly as\n",
    "$$ \\mbox{sdp}_{3,1} (V,\\pi,T) = |T|^2 \\max_{\\rho} \\sum_{a,b,x,y} V(a,b,x,y) \\, \\mbox{tr}\\left[\\Phi_{T\\hat{T}|S\\hat{S}} \\rho_{T\\hat{T}S\\hat{S}}(a,b,x,y)\\right]$$\n",
    "$$s.t. \\quad \\rho_{T_1T_2T_3\\hat{T}S\\hat{S}}(a_1,a_2,a_3,b,x_1,x_2,x_3,y) \\geq 0 \\quad \\forall a_1,a_2,a_3,b,x_1,x_2,x_3,y$$ $$ \\sum_{a_1,a_2,a_3,b,x_1,x_2,x_3,y} \\mbox{tr}\\left[\\rho_{T_1T_2T_3\\hat{T}S\\hat{S}}(a_1,a_2,a_3,b,x_1,x_2,x_3,y)\\right]=1$$\n",
    "$$\\left(F_{T_1|T_2}\\otimes I_{T_3\\hat{T}S\\hat{S}}\\right) \\rho_{T_1T_2T_3\\hat{T}S\\hat{S}}(a_2,a_1,a_3,b,x_2,x_1,x_3,y) \\left(F_{T_1|T_2}\\otimes I_{T_3\\hat{T}S\\hat{S}}\\right) = \\rho_{T_1T_2T_3\\hat{T}S\\hat{S}}(a_1,a_2,a_3,b,x_1,x_2,x_3,y)$$\n",
    "$$\\left(F_{T_1|T_3}\\otimes I_{T_2\\hat{T}S\\hat{S}}\\right) \\rho_{T_1T_2T_3\\hat{T}S\\hat{S}}(a_3,a_2,a_1,b,x_3,x_2,x_1,y) \\left(F_{T_1|T_3}\\otimes I_{T_2\\hat{T}S\\hat{S}}\\right) = \\rho_{T_1T_2T_3\\hat{T}S\\hat{S}}(a_1,a_2,a_3,b,x_1,x_2,x_3,y)$$\n",
    "$$\\left(F_{T_2|T_3}\\otimes I_{T_1\\hat{T}S\\hat{S}}\\right) \\rho_{T_1T_2T_3\\hat{T}S\\hat{S}}(a_1,a_3,a_2,b,x_1,x_3,x_2,y) \\left(F_{T_2|T_3}\\otimes I_{T_1\\hat{T}S\\hat{S}}\\right) = \\rho_{T_1T_2T_3\\hat{T}S\\hat{S}}(a_1,a_2,a_3,b,x_1,x_2,x_3,y)$$\n",
    "$$\\sum_{a_1}\\rho_{T_1T_2T_3\\hat{T}S\\hat{S}}(a_1,a_2,a_3,b,x_1,x_2,x_3,y) = \\left(\\pi(x_1)\\frac{I_{T_1}}{|T|}\\right)\\otimes \\rho_{T_2T_3\\hat{T}S\\hat{S}}(a_2,a_3,b,x_2,x_3,y)$$\n",
    "$$\\sum_{b}\\rho_{T_1T_2T_3\\hat{T}S\\hat{S}}(a_1,a_2,a_3,b,x_1,x_2,x_3,y) = \\left(\\pi(y)\\frac{I_{\\hat{T}}}{|T|}\\right)\\otimes \\rho_{T_1T_2T_3S\\hat{S}}(a_1,a_2,a_3,x_1,x_2,x_3)$$\n",
    "$$\\rho^{T_{T_1T_2T_3}}_{T_1T_2T_3\\hat{T}S\\hat{S}}(a_1,a_2,a_3,b,x_1,x_2,x_3,y)\\geq0\\,, \\quad \\rho^{T_{\\hat{T}}}_{T_1T_2T_3\\hat{T}S\\hat{S}}(a_1,a_2,a_3,b,x_1,x_2,x_3,y)\\geq0\\,, \\quad \\rho^{T_{S\\hat{S}}}_{T_1T_2T_3\\hat{T}S\\hat{S}}(a_1,a_2,a_3,b,x_1,x_2,x_3,y)\\geq0.$$"
   ]
  },
  {
   "cell_type": "markdown",
   "metadata": {},
   "source": [
    "### Variables and Functions"
   ]
  },
  {
   "cell_type": "code",
   "execution_count": null,
   "metadata": {},
   "outputs": [],
   "source": [
    "# Subsystems A1_1 A1_2 A1_3 Q1_1 Q1_2 Q1_3 A2 Q2 \n",
    "subs_AAAQQQ1_AQ2 = (dimA1,dimA1,dimA1,dimQ1,dimQ1,dimQ1,dimA2,dimQ2)\n",
    "indices_AAAQQQ1_AQ2 = nlg.indices_list(subs_AAAQQQ1_AQ2)\n",
    "\n",
    "# Subsystems A1_1 Q1_1 A2_1 Q2_1\n",
    "subs_AQ1_AQ2 = (dimA1,dimQ1,dimA2,dimQ2)\n",
    "indices_AQ1_AQ2 = nlg.indices_list(subs_AQ1_AQ2)\n",
    "\n",
    "# Subsystems T1_1 T1_2 T1_3 T2 S1 S2\n",
    "subs_TTT1_T2_SS = (dimT,dimT,dimT,dimT,dimS,dimS)\n",
    "dim_TTT1_T2_SS = fc.reduce(mul, subs_TTT1_T2_SS, 1)\n",
    "\n",
    "# Subsystems T1_2 T1_3 T2 S1 S2\n",
    "subs_TTT_SS = (dimT,dimT,dimT,dimS,dimS)\n",
    "dim_TTT_SS = fc.reduce(mul, subs_TTT_SS, 1)\n",
    "\n",
    "# Subsystems A1_1 A1_2 A1_3 Q1_1 Q1_2 Q1_3 Q2 \n",
    "subs_AAAQQQ1_Q2 = (dimA1,dimA1,dimA1,dimQ1,dimQ1,dimQ1,dimQ2)\n",
    "indices_AAAQQQ1_Q2 = nlg.indices_list(subs_AAAQQQ1_Q2)\n",
    "\n",
    "# Subsystems A1_1 A1_2 A1_3 Q1_1 Q1_2 Q1_3 \n",
    "subs_AAAQQQ1 = (dimA1,dimA1,dimA1,dimQ1,dimQ1,dimQ1)\n",
    "indices_AAAQQQ1 = nlg.indices_list(subs_AAAQQQ1)\n",
    "\n",
    "# Subsystems A1_2 A1_3 Q1_1 Q1_2 Q1_3 A2 Q2\n",
    "subs_AAQQQ1_AQ2 = (dimA1,dimA1,dimQ1,dimQ1,dimQ1,dimA2,dimQ2)\n",
    "indices_AAQQQ1_AQ2 = nlg.indices_list(subs_AAQQQ1_AQ2)\n",
    "\n",
    "# Subsystems A1_2 A1_3 Q1_2 Q1_3 A2 Q2\n",
    "subs_AAQQ1_AQ2 = (dimA1,dimA1,dimQ1,dimQ1,dimA2,dimQ2)\n",
    "indices_AAQQ1_AQ2 = nlg.indices_list(subs_AAQQ1_AQ2)\n",
    "\n",
    "# Subsystems A1 Q1\n",
    "subs_AQ1 = (dimA1,dimQ1)\n",
    "indices_AQ1 = nlg.indices_list(subs_AQ1)\n",
    "\n",
    "# Subsystems A2 Q2\n",
    "subs_AQ2 = (dimA2,dimQ2)\n",
    "indices_AQ2 = nlg.indices_list(subs_AQ2)\n",
    "\n",
    "# Subsystems A1_1 A1_2 Q1_1 Q1_2\n",
    "subs_AAQQ1 = (dimA1,dimA1,dimQ1,dimQ1)\n",
    "indices_AAQQ1 = nlg.indices_list(subs_AAQQ1)\n",
    "\n",
    "# Subsystems T*_1 T*_2\n",
    "subs_TT = (dimT,dimT)\n",
    "dim_TT = fc.reduce(mul, subs_TT, 1)\n",
    "\n",
    "# Subsystems T1_1 T2_1 S1 S2\n",
    "subs_TT_SS = (dimT,dimT,dimS,dimS)\n",
    "dim_TT_SS = fc.reduce(mul, subs_TT_SS, 1)\n",
    "\n",
    "# State on subsystem T\n",
    "rhoT = np.identity(dimT)/dimT\n",
    "\n",
    "# A function which converts [a1_1,a1_2,q1_1,q1_2,a2_1,a2_2,q2_1,q2_2] to the corresponding index\n",
    "StI = lambda seq : nlg.seqtoint(seq, subs_AAAQQQ1_AQ2)"
   ]
  },
  {
   "cell_type": "markdown",
   "metadata": {},
   "source": [
    "### Optimisation"
   ]
  },
  {
   "cell_type": "code",
   "execution_count": null,
   "metadata": {},
   "outputs": [],
   "source": [
    "### Variables\n",
    "# The (sub-normalized) states we optimize over\n",
    "rho_TTTTSS = []\n",
    "shape_TTTTSS = (dim_TTT1_T2_SS, dim_TTT1_T2_SS)\n",
    "\n",
    "for index in indices_AAAQQQ1_AQ2:\n",
    "    rho_TTTTSS.append( cp.Variable(shape_TTTTSS,symmetric=True) )\n",
    "\n",
    "    \n",
    "## OBJECTIVE FUNCTION\n",
    "# The swap operator takes T1_1 T1_2 T1_3 T2 S1 S2 to S1 T1_2 T1_3 S2 T1_1 T2 & Phi_TTTTSS for the objective function\n",
    "F_TTTTSS = cp.Constant(nlg.permutation_matrix((0,1,2,3,4,5), (4,1,2,5,0,3), subs_TTT1_T2_SS))\n",
    "Phi_TTTTSS = nlg.partial_transpose(F_TTTTSS, subs_TT1_TT2_SS, (0,0,0,0,1,1))\n",
    "\n",
    "# The object function is\n",
    "obj_fun_components = []\n",
    "\n",
    "for a1,q1,a2,q2 in indices_A1Q1A2Q2:\n",
    "    v_a1q1a2q2 = rule_function(a1,q1,a2,q2)\n",
    "    variable_TTTTSS = sum([rho_TTTTSS[StI([a1,a11,a12,q1,q11,q12,a2,q2],subs_AAAQQQ1_AQ2)] for a11,a12,q11,q12 in indices_AAQQ1])\n",
    "    obj_fun_components.append( v_a1q1a2q2 * cp.trace( cp.matmul(Phi_TTTTSS,variable_TTTTSS) ) )\n",
    "    \n",
    "object_function = cp.Constant(dimT**2) * sum(obj_fun_components)\n",
    "\n",
    "\n",
    "## CONSTRAINTS\n",
    "constraints = []\n",
    "\n",
    "# 1) rho_TTTTSS are (sub-normalized) quantum states\n",
    "# 1a) trace of the sum is 1\n",
    "trace_rho = sum([cp.trace(rho_TTTTSS[StI(index,subs_AAAQQQ1_AQ2)]) for index in indices_AAAQQQ1_AQ2])\n",
    "constraints.append( trace_rho - 1 == 0 )\n",
    "\n",
    "# 1b) positive semidefinite matrices\n",
    "for index in indices_AAAQQQ1_AQ2:\n",
    "    constraints.append( rho_TTTTSS[StI(index,subs_AAAQQQ1_AQ2)] >> 0 )\n",
    "\n",
    "# 2) Permutation invariance\n",
    "# 2a) over A1_1 Q1_1 T1_1 and A1_2 Q1_2 T1_2\n",
    "\n",
    "# The permutation matrix swaps T1_1 and T1_2\n",
    "P = nlg.permutation_matrix((0,1,2,3,4,5), (1,0,2,3,4,5), subs_TTT1_T2_SS)\n",
    "\n",
    "for a1,a11,a12,q1,q11,q12,a2,q2 in indices_AAAQQQ1_AQ2:\n",
    "    lhs = rho_TTTTSS[StI([a1,a11,a12,q1,q11,q12,a2,q2],subs_AAAQQQ1_AQ2)]\n",
    "    \n",
    "    rhs_variable = rho_TTTTSS[StI([a11,a1,a12,q11,q1,q12,a2,q2],subs_AAAQQQ1_AQ2)]\n",
    "    rhs = cp.matmul(cp.matmul(P,rhs_variable),P)\n",
    "\n",
    "    constraints.append( lhs - rhs == 0 )\n",
    "\n",
    "# 2b) over A1_1 Q1_1 T1_1 and A1_3 Q1_3 T1_3\n",
    "\n",
    "# The permutation matrix swaps T1_1 and T1_3\n",
    "P = nlg.permutation_matrix((0,1,2,3,4,5), (2,1,0,3,4,5), subs_TTT1_T2_SS)\n",
    "\n",
    "for a1,a11,a12,q1,q11,q12,a2,q2 in indices_AAAQQQ1_AQ2:\n",
    "    lhs = rho_TTTTSS[StI([a1,a11,a12,q1,q11,q12,a2,q2],subs_AAAQQQ1_AQ2)]\n",
    "    \n",
    "    rhs_variable = rho_TTTTSS[StI([a12,a11,a1,q12,q11,q1,a2,q2],subs_AAAQQQ1_AQ2)]\n",
    "    rhs = cp.matmul(cp.matmul(P,rhs_variable),P)\n",
    "\n",
    "    constraints.append( lhs - rhs == 0 )\n",
    "\n",
    "# 2c) over A1_2 Q1_2 T1_2 and A1_3 Q1_3 T1_3\n",
    "\n",
    "# The permutation matrix swaps T1_2 and T1_3\n",
    "P = nlg.permutation_matrix((0,1,2,3,4,5), (0,2,1,3,4,5), subs_TTT1_T2_SS)\n",
    "\n",
    "for a1,a11,a12,q1,q11,q12,a2,q2 in indices_AAAQQQ1_AQ2:\n",
    "    lhs = rho_TTTTSS[StI([a1,a11,a12,q1,q11,q12,a2,q2],subs_AAAQQQ1_AQ2)]\n",
    "    \n",
    "    rhs_variable = rho_TTTTSS[StI([a1,a12,a11,q1,q12,q11,a2,q2],subs_AAAQQQ1_AQ2)]\n",
    "    rhs = cp.matmul(cp.matmul(P,rhs_variable),P)\n",
    "    \n",
    "    constraints.append( lhs - rhs == 0 )\n",
    "\n",
    "# 3) First linear constraint\n",
    "for a11,a12,q1,q11,q12,a2,q2 in indices_AAQQQ1_AQ2:\n",
    "    indices_A1a11a12q1q11q12a2q2 = [StI([a,a11,a12,q1,q11,q12,a2,q2],subs_AAAQQQ1_AQ2) for a in range(dimA1)]\n",
    "    indices_A1a11a12Q1q11q12a2q2 = [StI([a,a11,a12,q,q11,q12,a2,q2],subs_AAAQQQ1_AQ2) for a,q in indices_AQ1]\n",
    "\n",
    "    lhs = sum([rho_TTTTSS[i] for i in indices_A1a11a12q1q11q12a2q2])\n",
    "\n",
    "    rhs_variable = sum([rho_TTTTSS[i] for i in indices_A1a11a12Q1q11q12a2q2])\n",
    "    rhs_partial = nlg.partial_trace(rhs_variable, [dimT, dim_TTT_SS])\n",
    "    rhs = probQ1[q1] * cp.kron(rhoT, rhs_partial)\n",
    "\n",
    "    constraints.append( lhs - rhs == 0 )\n",
    "\n",
    "# 4) Second linear constraint\n",
    "\n",
    "# The permutation matrix swaps T(1)1 and T2\n",
    "P = cp.Constant(nlg.permutation_matrix((0,1,2,3,4,5), (3,1,2,0,4,5), subs_TTT1_T2_SS))\n",
    "\n",
    "for a1,a11,a12,q1,q11,q12,q2 in indices_AAAQQQ1_Q2:\n",
    "    indices_a1a11a12q1q11q12A2q2 = [StI([a1,a11,a12,q1,q11,q12,a,q2],subs_AAAQQQ1_AQ2) for a in range(dimA2)]\n",
    "    indices_a1a11a12q1q11q12A2Q2 = [StI([a1,a11,a12,q1,q11,q12,a,q],subs_AAAQQQ1_AQ2) for a,q in indices_AQ2]\n",
    "\n",
    "    lhs_variable = sum([rho_TTTTSS[i] for i in indices_a1a11a12q1q11q12A2q2])\n",
    "    lhs = cp.matmul(cp.matmul(P,lhs_variable),P)\n",
    "\n",
    "    rhs_variable = sum([rho_TTTTSS[i] for i in indices_a1a11a12q1q11q12A2Q2])\n",
    "    rhs_permuted = cp.matmul(cp.matmul(P,rhs_variable),P)\n",
    "    rhs_partial = nlg.partial_trace(rhs_permuted, [dimT, dim_TTT_SS])\n",
    "    rhs = probQ2[q2] * cp.kron(rhoT, rhs_partial)\n",
    "\n",
    "    constraints.append( lhs - rhs == 0 )\n",
    "\n",
    "# 5) PPT criterium\n",
    "for index in indices_AAAQQQ1_AQ2:\n",
    "    constraints.append( nlg.partial_transpose(rho_TTTTSS[StI(index,subs_AAAQQQ1_AQ2)],subs_TTT1_T2_SS,(0,0,0,0,1,1)) >> 0 )\n",
    "    constraints.append( nlg.partial_transpose(rho_TTTTSS[StI(index,subs_AAAQQQ1_AQ2)],subs_TT1_TT2_SS,(1,1,1,0,0,0)) >> 0 )\n",
    "    constraints.append( nlg.partial_transpose(rho_TTTTSS[StI(index,subs_AAAQQQ1_AQ2)],subs_TT1_TT2_SS,(0,0,0,1,0,0)) >> 0 )\n",
    "\n",
    "# 6) NPA style constraint (see PhysRevLett.98.010401)\n",
    "\n",
    "# Introduce normalization factor\n",
    "renorm = lambda x,y : dimT**2/(probQ1[x]*probQ2[y])\n",
    "\n",
    "# The P matrix containing the information about the variables rho_TTSS is give by\n",
    "P = []\n",
    "\n",
    "for a1,q1 in indices_AQ1:\n",
    "    P_row = [renorm(q1,q2)*cp.trace(Phi_TTTTSS@sum([rho_TTTTSS[StI([a1,a11,a12,q1,q11,q12,a2,q2])] for a11,a12,q11,q12 in indices_AAQQ1]))\n",
    "             for a2,q2 in indices_AQ2]\n",
    "    P.append(P_row)\n",
    "\n",
    "P = cp.bmat(P)\n",
    "\n",
    "# The Q matrix containing information on the variables rho_TTSS and new variables as well\n",
    "Q = []\n",
    "\n",
    "for a1,q1 in indices_AQ1:\n",
    "    Q_row = []\n",
    "    for a1p,q1p in indices_AQ1:\n",
    "        if q1 == q1p:\n",
    "            if a1 == a1p:\n",
    "                val = sum([renorm(q1,q2)*cp.trace(Phi_TTTTSS@rho_TTTTSS[StI([a1,a11,q12,q1,q11,q12,a2,q2])])\n",
    "                           for a11,a12,q11,q12,a2,q2 in indices_AAQQ1_AQ2])/dimQ2\n",
    "            else:\n",
    "                val = cp.Constant(0) # Assume projective measurements. Otherwise, cp.Variable()\n",
    "        else:\n",
    "            val = cp.Variable()\n",
    "        Q_row.append(val)\n",
    "    Q.append(Q_row)\n",
    "\n",
    "Q = cp.bmat(Q)\n",
    "\n",
    "# The R matrix containing information on the variables rho_TTSS and new variables as well\n",
    "R = []\n",
    "\n",
    "for a2,q2 in indices_AQ2:\n",
    "    R_row = []\n",
    "    for a2p,q2p in indices_AQ2:\n",
    "        if q2 == q2p:\n",
    "            if a2 == a2p:\n",
    "                val = sum([renorm(q1,q2)*cp.trace(Phi_TTTTSS@rho_TTTTSS[StI([a1,a11,a12,q1,q11,q12,a2,q2])])\n",
    "                           for a1,a11,a12,q1,q11,q12 in indices_AAAQQQ1])/dimQ1\n",
    "            else:\n",
    "                val = cp.Constant(0) # Assume projective measurements. Otherwise, cp.Variable()\n",
    "        else:\n",
    "            val = cp.Variable()\n",
    "        R_row.append(val)\n",
    "    R.append(R_row)\n",
    "\n",
    "R = cp.bmat(R)\n",
    "\n",
    "# Constructing vector v of dimension dimA1*dimQ1+dimA2*dimQ2\n",
    "v = []\n",
    "\n",
    "for a1,q1 in indices_AQ1:\n",
    "    v.append(sum([renorm(q1,q2)*cp.trace(Phi_TTTTSS@rho_TTTTSS[StI([a1,a11,a12,q1,q11,q12,a2,q2])])\n",
    "                  for a11,a12,q11,q12,a2,q2 in indices_AAQQ1_AQ2])/dimQ2)\n",
    "    \n",
    "for a2,q2 in indices_AQ2:\n",
    "    v.append(sum([renorm(q1,q2)*cp.trace(Phi_TTTTSS@rho_TTTTSS[StI([a1,a11,a12,q1,q11,q12,a2,q2])])\n",
    "                  for a1,a11,a12,q1,q11,q12 in indices_AAAQQQ1])/dimQ1)\n",
    "    \n",
    "v = cp.bmat([v])\n",
    "w = cp.vstack([cp.Constant([[1]]),v.T])\n",
    "\n",
    "# Builiding the matrix M that should be positive semi-definite (NPA constraint)\n",
    "M = cp.vstack([cp.hstack([Q,P]),cp.hstack([P.T,R])])\n",
    "M = cp.vstack([v,M])\n",
    "M = cp.hstack([w,M])\n",
    "      \n",
    "constraints.append( M >> 0 )\n",
    "constraints.append( M - M.T == 0 )\n",
    "\n",
    "    \n",
    "## PROBLEM\n",
    "# Write the problem\n",
    "prob31 = cp.Problem(cp.Maximize(object_function), constraints)"
   ]
  },
  {
   "cell_type": "markdown",
   "metadata": {},
   "source": [
    "SDP(3,1)"
   ]
  },
  {
   "cell_type": "code",
   "execution_count": null,
   "metadata": {},
   "outputs": [],
   "source": [
    "SDP31 = prob31.solve(verbose=False, solver='MOSEK')\n",
    "print(SDP31)"
   ]
  },
  {
   "cell_type": "markdown",
   "metadata": {},
   "source": [
    "SDP31 = 0.8717348970635381\n",
    "\n",
    "The highest memory requirement was 300Gb. I could run it with the computing department computer (500Gb RAM)."
   ]
  },
  {
   "cell_type": "markdown",
   "metadata": {},
   "source": [
    "=================================================================\n",
    "\n",
    "From here, even a 500gb RAM computer is not enough."
   ]
  },
  {
   "cell_type": "code",
   "execution_count": null,
   "metadata": {},
   "outputs": [],
   "source": [
    "SDP31_PPT = prob31.solve(verbose=False, solver='MOSEK')\n",
    "print(SDP31_PPT)"
   ]
  },
  {
   "cell_type": "markdown",
   "metadata": {},
   "source": [
    "# $I_{3322}$ game"
   ]
  },
  {
   "cell_type": "markdown",
   "metadata": {},
   "source": [
    "### Define the dimensions of the game"
   ]
  },
  {
   "cell_type": "code",
   "execution_count": 9,
   "metadata": {},
   "outputs": [],
   "source": [
    "dimA1 = 2\n",
    "dimA2 = 2\n",
    "dimQ1 = 3\n",
    "dimQ2 = 3\n",
    "\n",
    "dimT = 2"
   ]
  },
  {
   "cell_type": "markdown",
   "metadata": {},
   "source": [
    "### Inputs of the program\n",
    "\n",
    "- $V(a_1,a_2,q_1,q_2)$: I3322 rule function\n",
    "- $\\pi(q1,q2)$: the uniform distribution"
   ]
  },
  {
   "cell_type": "code",
   "execution_count": 10,
   "metadata": {},
   "outputs": [],
   "source": [
    "probQ1 = (1/3,1/3,1/3)\n",
    "probQ2 = (1/3,1/3,1/3)\n",
    "\n",
    "rule_function = lambda a,x,b,y : nlg.general_I3322_rule_ineq(a,x,b,y,probQ1,probQ2)"
   ]
  },
  {
   "cell_type": "markdown",
   "metadata": {},
   "source": [
    "## $\\text{SDP}^{\\text{proj}}(3,3)$ "
   ]
  },
  {
   "cell_type": "markdown",
   "metadata": {},
   "source": [
    "We make use of the results in Appendix F of https://arxiv.org/abs/2005.08883 to simplify our SDP. This simplified form holds when Alice and Bob are restricted to rank-1 projective measurement."
   ]
  },
  {
   "cell_type": "markdown",
   "metadata": {},
   "source": [
    "### Variables and Functions"
   ]
  },
  {
   "cell_type": "code",
   "execution_count": 11,
   "metadata": {},
   "outputs": [],
   "source": [
    "# Subsystems A1 Q1 A2 Q2\n",
    "subs_A1Q1A2Q2 = (dimA1,dimQ1,dimA2,dimQ2)\n",
    "indices_A1Q1A2Q2 = nlg.indices_list(subs_A1Q1A2Q2)\n",
    "dim_A1Q1A2Q2 = fc.reduce(mul, subs_A1Q1A2Q2, 1)\n",
    "\n",
    "# Subsystems T_q1=1 ... T_q1=|Q1| T_q2=1 ... T_q2=|Q2|\n",
    "subs_W = tuple(np.full(dimQ1+dimQ2, dimT))\n",
    "dim_W = fc.reduce(mul, subs_W, 1)"
   ]
  },
  {
   "cell_type": "markdown",
   "metadata": {},
   "source": [
    "### Optimisation"
   ]
  },
  {
   "cell_type": "code",
   "execution_count": 12,
   "metadata": {},
   "outputs": [],
   "source": [
    "## VARIABLE\n",
    "W = cp.Variable((dim_W,dim_W),symmetric=True)\n",
    "\n",
    "## OBJECTIVE FUNCTION\n",
    "\n",
    "# Build the operator connected to the inequality I\n",
    "I_operator = nlg.I_operator(rule_function,indices_A1Q1A2Q2,dimQ1,dimQ2,dimT)\n",
    "\n",
    "# Objective function\n",
    "objective_function = cp.trace(cp.matmul(W,I_operator))\n",
    "    \n",
    "## CONSTRAINTS\n",
    "constraints = []\n",
    "    \n",
    "# 1) rho_TTSS are (sub-normalized) quantum states\n",
    "# 1a) trace of the sum is 1\n",
    "constraints.append( cp.trace(W) - 1 == 0 )\n",
    "\n",
    "# 1b) positive semidefinite matrices\n",
    "constraints.append( W >> 0 )\n",
    "\n",
    "# 2) PPT\n",
    "PPT_dim = (2,)*(dimQ1+dimQ2-1)\n",
    "PPT_list = [np.concatenate((np.full(2,item[0]),item[1:])) for item in nlg.indices_list(PPT_dim)]\n",
    "\n",
    "for PPT in PPT_list:\n",
    "    \n",
    "    if (sum(PPT) == 0) or (sum(PPT) == 6):\n",
    "        continue\n",
    "    \n",
    "    constraints.append( nlg.partial_transpose(W,subs_W,tuple(PPT)) >> 0 )\n",
    "\n",
    "# Write the problem\n",
    "prob = cp.Problem(cp.Maximize(objective_function), constraints)"
   ]
  },
  {
   "cell_type": "markdown",
   "metadata": {},
   "source": [
    "SDP(3,3) with projective assumption (only PPT constraints are imposed). This runs on a laptop."
   ]
  },
  {
   "cell_type": "code",
   "execution_count": 13,
   "metadata": {},
   "outputs": [
    {
     "name": "stdout",
     "output_type": "stream",
     "text": [
      "\n",
      "\n",
      "Problem\n",
      "  Name                   :                 \n",
      "  Objective sense        : min             \n",
      "  Type                   : CONIC (conic optimization problem)\n",
      "  Constraints            : 126977          \n",
      "  Cones                  : 0               \n",
      "  Scalar variables       : 2080            \n",
      "  Matrix variables       : 31              \n",
      "  Integer variables      : 0               \n",
      "\n",
      "Optimizer started.\n",
      "Problem\n",
      "  Name                   :                 \n",
      "  Objective sense        : min             \n",
      "  Type                   : CONIC (conic optimization problem)\n",
      "  Constraints            : 126977          \n",
      "  Cones                  : 0               \n",
      "  Scalar variables       : 2080            \n",
      "  Matrix variables       : 31              \n",
      "  Integer variables      : 0               \n",
      "\n",
      "Optimizer  - threads                : 2               \n",
      "Optimizer  - solved problem         : the primal      \n",
      "Optimizer  - Constraints            : 126977\n",
      "Optimizer  - Cones                  : 1\n",
      "Optimizer  - Scalar variables       : 2081              conic                  : 2081            \n",
      "Optimizer  - Semi-definite variables: 31                scalarized             : 64480           \n",
      "Factor     - setup time             : 382.08            dense det. time        : 53.23           \n",
      "Factor     - ML order time          : 192.06            GP order time          : 0.00            \n",
      "Factor     - nonzeros before factor : 2.60e+08          after factor           : 4.42e+08        \n",
      "Factor     - dense dim.             : 2082              flops                  : 1.63e+12        \n",
      "ITE PFEAS    DFEAS    GFEAS    PRSTATUS   POBJ              DOBJ              MU       TIME  \n",
      "0   1.0e+00  4.0e+00  1.0e+00  0.00e+00   0.000000000e+00   0.000000000e+00   1.0e+00  382.41\n",
      "1   4.1e-01  1.6e+00  2.9e-01  6.04e+00   -2.548134370e+00  -2.128599872e+00  4.1e-01  428.55\n",
      "2   1.2e-01  4.7e-01  2.9e-02  3.24e+00   -5.546652408e-01  -5.021746536e-01  1.2e-01  475.59\n",
      "3   1.6e-02  6.6e-02  2.7e-04  1.50e+00   -2.717696114e-01  -2.724578806e-01  1.6e-02  532.95\n",
      "4   9.9e-03  3.9e-02  1.2e-04  1.06e+00   -2.659661952e-01  -2.663922382e-01  9.9e-03  588.78\n",
      "5   5.0e-04  2.0e-03  8.3e-07  1.04e+00   -2.514055309e-01  -2.514308311e-01  5.0e-04  651.83\n",
      "6   5.8e-05  2.3e-04  2.4e-08  1.00e+00   -2.501294778e-01  -2.501325873e-01  5.8e-05  703.19\n",
      "7   2.4e-06  9.7e-06  1.9e-10  1.00e+00   -2.500047746e-01  -2.500049060e-01  2.4e-06  757.61\n",
      "8   1.0e-07  5.3e-07  1.6e-12  1.00e+00   -2.500002096e-01  -2.500002151e-01  1.0e-07  813.86\n",
      "Optimizer terminated. Time: 814.58  \n",
      "\n",
      "\n",
      "Interior-point solution summary\n",
      "  Problem status  : PRIMAL_AND_DUAL_FEASIBLE\n",
      "  Solution status : OPTIMAL\n",
      "  Primal.  obj: -2.5000020963e-01   nrm: 1e+00    Viol.  con: 6e-09    var: 0e+00    barvar: 0e+00  \n",
      "  Dual.    obj: -2.5000021515e-01   nrm: 4e-01    Viol.  con: 0e+00    var: 2e-08    barvar: 6e-09  \n"
     ]
    },
    {
     "data": {
      "text/plain": [
       "0.25000020962771635"
      ]
     },
     "execution_count": 13,
     "metadata": {},
     "output_type": "execute_result"
    }
   ],
   "source": [
    "prob.solve(verbose=True, solver='MOSEK')"
   ]
  },
  {
   "cell_type": "code",
   "execution_count": null,
   "metadata": {},
   "outputs": [],
   "source": []
  }
 ],
 "metadata": {
  "kernelspec": {
   "display_name": "Python 3",
   "language": "python",
   "name": "python3"
  },
  "language_info": {
   "codemirror_mode": {
    "name": "ipython",
    "version": 3
   },
   "file_extension": ".py",
   "mimetype": "text/x-python",
   "name": "python",
   "nbconvert_exporter": "python",
   "pygments_lexer": "ipython3",
   "version": "3.7.5"
  }
 },
 "nbformat": 4,
 "nbformat_minor": 4
}
