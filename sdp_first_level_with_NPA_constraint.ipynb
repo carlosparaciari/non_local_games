{
 "cells": [
  {
   "cell_type": "code",
   "execution_count": 6,
   "metadata": {},
   "outputs": [],
   "source": [
    "import lib_non_local_games as nlg\n",
    "import numpy as np\n",
    "import cvxpy as cp\n",
    "import functools as fc\n",
    "from operator import mul"
   ]
  },
  {
   "cell_type": "code",
   "execution_count": 7,
   "metadata": {},
   "outputs": [
    {
     "data": {
      "text/plain": [
       "['CVXOPT', 'ECOS', 'ECOS_BB', 'GLPK', 'GLPK_MI', 'MOSEK', 'OSQP', 'SCS']"
      ]
     },
     "execution_count": 7,
     "metadata": {},
     "output_type": "execute_result"
    }
   ],
   "source": [
    "cp.installed_solvers()"
   ]
  },
  {
   "cell_type": "markdown",
   "metadata": {},
   "source": [
    "Parameter of the CHSH game"
   ]
  },
  {
   "cell_type": "code",
   "execution_count": 8,
   "metadata": {},
   "outputs": [],
   "source": [
    "dimA1 = 2\n",
    "dimA2 = 2\n",
    "dimQ1 = 2\n",
    "dimQ2 = 2\n",
    "\n",
    "dimT = 2\n",
    "dimS = 2\n",
    "\n",
    "probQ1 = (.5,.5)\n",
    "probQ2 = (.5,.5)"
   ]
  },
  {
   "cell_type": "markdown",
   "metadata": {},
   "source": [
    "# CHSH game ($n_1 = 1$, $n_2 = 1$) with NPA constraints"
   ]
  },
  {
   "cell_type": "code",
   "execution_count": 9,
   "metadata": {},
   "outputs": [],
   "source": [
    "# Subsystems A1 Q1 A2 Q2\n",
    "subs_A1Q1A2Q2 = (dimA1,dimQ1,dimA2,dimQ2)\n",
    "indices_A1Q1A2Q2 = nlg.indices_list(subs_A1Q1A2Q2)\n",
    "dim_A1Q1A2Q2 = fc.reduce(mul, subs_A1Q1A2Q2, 1)\n",
    "\n",
    "# Subsystems A2 Q1 Q2\n",
    "subs_A2Q1Q2 = (dimA2,dimQ1,dimQ2)\n",
    "indices_A2Q1Q2 = nlg.indices_list(subs_A2Q1Q2)\n",
    "\n",
    "# Subsystems A1 Q1 Q2\n",
    "subs_A1Q1Q2 = (dimA1,dimQ1,dimQ2)\n",
    "indices_A1Q1Q2 = nlg.indices_list(subs_A1Q1Q2)\n",
    "\n",
    "# Subsystems A1 Q1\n",
    "subs_A1Q1 = (dimA1,dimQ1)\n",
    "indices_A1Q1 = nlg.indices_list(subs_A1Q1)\n",
    "dim_A1Q1 = fc.reduce(mul, subs_A1Q1, 1)\n",
    "\n",
    "# Subsystems A2 Q2\n",
    "subs_A2Q2 = (dimA2,dimQ2)\n",
    "indices_A2Q2 = nlg.indices_list(subs_A2Q2)\n",
    "dim_A2Q2 = fc.reduce(mul, subs_A2Q2, 1)\n",
    "\n",
    "# Subsystems A1 A2\n",
    "subs_A1A2 = (dimA1,dimA2)\n",
    "indices_A1A2 = nlg.indices_list(subs_A1A2)\n",
    "\n",
    "# Subsystems Q1 Q2\n",
    "subs_Q1Q2 = (dimQ1,dimQ2)\n",
    "indices_Q1Q2 = nlg.indices_list(subs_Q1Q2)\n",
    "\n",
    "# Subsystems T hat(T) S hat(S)\n",
    "subs_TTSS = (dimT,dimT,dimS,dimS)\n",
    "indices_TTSS = nlg.indices_list(subs_TTSS)\n",
    "dim_TTSS = fc.reduce(mul, subs_TTSS, 1)\n",
    "\n",
    "# Additional dimensions\n",
    "dim_TSS = dimT * dimS**2\n",
    "dim_TT = dimT**2\n",
    "dim_SS = dimS**2\n",
    "\n",
    "# State on subsystem T\n",
    "rhoT = np.identity(dimT)/dimT"
   ]
  },
  {
   "cell_type": "code",
   "execution_count": 10,
   "metadata": {},
   "outputs": [],
   "source": [
    "BtI = lambda seq : nlg.seqtoint(seq, subs_A1Q1A2Q2)"
   ]
  },
  {
   "cell_type": "code",
   "execution_count": 11,
   "metadata": {},
   "outputs": [],
   "source": [
    "# Maximally entangled vectors between T|S and TT|SS\n",
    "phi_TS = nlg.bipartite_unnorm_max_entangled_state(dimT)\n",
    "phi_TSTS = nlg.tensor([phi_TS,phi_TS])\n",
    "\n",
    "# Maximally mixed states between TT|SS (correct order of subsystems)\n",
    "Phi_TSTS = np.outer(phi_TSTS,phi_TSTS)\n",
    "P = nlg.permutation_matrix((0,1,2,3), (0,2,1,3), (dimT, dimT,dimT, dimT))\n",
    "Phi_TTSS = P @ Phi_TSTS @ P"
   ]
  },
  {
   "cell_type": "markdown",
   "metadata": {},
   "source": [
    "The program"
   ]
  },
  {
   "cell_type": "code",
   "execution_count": 16,
   "metadata": {},
   "outputs": [],
   "source": [
    "## VARIABLES\n",
    "\n",
    "# The (sub-normalized) states we optimize over\n",
    "rho_TTSS = []\n",
    "for i in map(BtI,indices_A1Q1A2Q2):\n",
    "    rho_TTSS.append( cp.Variable((dim_TTSS,dim_TTSS),hermitian=True) )\n",
    "\n",
    "## OBJECTIVE FUNCTION\n",
    "\n",
    "# The swap operator is\n",
    "F_TTSS = nlg.permutation_matrix((0,1), (1,0), (dim_TT, dim_SS))\n",
    "\n",
    "# The rule function is\n",
    "rule_A1Q1A2Q2 = nlg.CHSH_rule_function_A1Q1A2Q2\n",
    "#rule_A1Q1A2Q2 = random_rule_function_A1Q1A2Q2\n",
    "\n",
    "# The object function is\n",
    "obj_fun_components = [rule_A1Q1A2Q2(*index) * cp.trace( cp.matmul(Phi_TTSS,rho_TTSS[BtI(index)]) )\n",
    "                      for index in indices_A1Q1A2Q2]\n",
    "\n",
    "object_function = cp.Constant(dimT**2) * sum(obj_fun_components)\n",
    "\n",
    "## CONSTRAINTS\n",
    "\n",
    "constraints = []\n",
    "    \n",
    "# 2) rho_TTSS are (sub-normalized) quantum states\n",
    "# 2a) trace of the sum is 1\n",
    "constraints.append( sum([cp.trace(rho_TTSS[i]) for i in map(BtI,indices_A1Q1A2Q2)]) - 1 == 0 )\n",
    "\n",
    "# 2b) positive semidefinite matrices\n",
    "for i in map(BtI,indices_A1Q1A2Q2):\n",
    "    constraints.append( rho_TTSS[i] >> 0 )\n",
    "    \n",
    "# 3) First linear constraint\n",
    "for a2,q1,q2 in indices_A2Q1Q2:\n",
    "    indices_A1q1a2q2 = [BtI([a,q1,a2,q2]) for a in range(dimA1)]\n",
    "    indices_A1Q1a2q2 = [BtI([a,q,a2,q2]) for a,q in indices_A1Q1]\n",
    "    \n",
    "    lhs = sum([rho_TTSS[i] for i in indices_A1q1a2q2])\n",
    "    \n",
    "    rhs_variable = sum([rho_TTSS[i] for i in indices_A1Q1a2q2])\n",
    "    rhs_partial = nlg.partial_trace(rhs_variable, [dimT, dim_TSS])\n",
    "    rhs = cp.Constant(probQ1[q1]) * cp.kron(rhoT, rhs_partial)\n",
    "    \n",
    "    constraints.append( lhs - rhs == 0 )\n",
    "    \n",
    "# 4) Second linear constraint\n",
    "P = nlg.permutation_matrix((0,1,2,3),(1,0,2,3),subs_TTSS)\n",
    "\n",
    "for a1,q1,q2 in indices_A1Q1Q2:\n",
    "    indices_a1q1A2q2 = [BtI([a1,q1,a,q2]) for a in range(dimA2)]\n",
    "    indices_a1q1A2Q2 = [BtI([a1,q1,a,q]) for a,q in indices_A2Q2]\n",
    "    \n",
    "    lhs_variable = sum([rho_TTSS[i] for i in indices_a1q1A2q2])\n",
    "    lhs = cp.matmul( cp.matmul(P,lhs_variable) , P )\n",
    "    \n",
    "    rhs_variable = sum([rho_TTSS[i] for i in indices_a1q1A2Q2])\n",
    "    rhs_permuted = cp.matmul( cp.matmul(P,rhs_variable) , P )\n",
    "    rhs_partial = nlg.partial_trace(rhs_permuted, [dimT, dim_TSS])\n",
    "    rhs = cp.Constant(probQ2[q2]) * cp.kron(rhoT, rhs_partial)\n",
    "    \n",
    "    constraints.append( lhs - rhs == 0 )\n",
    "\n",
    "# 5) NPA style constraint (see PhysRevLett.98.010401, Application I)\n",
    "\n",
    "# The P matrix containing the information about the variables rho_TTSS is give by\n",
    "P = []\n",
    "\n",
    "for q1 in range(dimQ1):\n",
    "    P_row = []\n",
    "    for q2 in range(dimQ2):\n",
    "        # Normalization constant to get P(a1,a2|q1,q2)\n",
    "        norm = cp.Constant( dimT**2/(probQ1[q1]*probQ2[q2]) )\n",
    "        # Compute the correlation function C_{q1,q2} = sum_{a1,a2} (-1)^{a1*a2} p(a1,a2|q1,q2)\n",
    "        C = sum([(-1)**(a1+a2)*norm*cp.trace(cp.matmul(Phi_TTSS,rho_TTSS[BtI([a1,q1,a2,q2])])) for a1,a2 in indices_A1A2])\n",
    "        P_row.append(C)\n",
    "    P.append(P_row)\n",
    "\n",
    "P = cp.bmat(P)\n",
    "\n",
    "# Introduce new variables Q and R, symmetic matrices whose elements are < 1\n",
    "\n",
    "# Q is dimQ1 x dimQ1\n",
    "Q = cp.Variable((dimQ1,dimQ1),symmetric=True)\n",
    "# R is dimQ2 x dimQ2\n",
    "R = cp.Variable((dimQ2,dimQ2),symmetric=True)\n",
    "\n",
    "# 5.1) The matrix M = [[Q,P],[P^T,R]] is PSD (NPA constraint)\n",
    "M = cp.bmat([[Q,P],[P.T,R]])\n",
    "constraints.append( M >> 0 )\n",
    "\n",
    "# 5.2) Assumptions on projective nature of measurement on A and B\n",
    "# Assumption over Q\n",
    "for q in range(dimQ1):\n",
    "    constraints.append( Q[q,q] - 1 == 0 )\n",
    "    \n",
    "# Assumption over R\n",
    "for q in range(dimQ2):\n",
    "    constraints.append( R[q,q] - 1 == 0 )\n",
    "            \n",
    "# 6) PPT criterium\n",
    "for i in map(BtI,indices_A1Q1A2Q2):\n",
    "    constraints.append( nlg.partial_transpose(rho_TTSS[i],subs_TTSS,(0,0,1,1)) >> 0 )\n",
    "    constraints.append( nlg.partial_transpose(rho_TTSS[i],subs_TTSS,(1,0,0,0)) >> 0 )\n",
    "    constraints.append( nlg.partial_transpose(rho_TTSS[i],subs_TTSS,(0,1,0,0)) >> 0 )\n",
    "    \n",
    "# Write the problem\n",
    "prob = cp.Problem(cp.Maximize(cp.real(object_function)), constraints)"
   ]
  },
  {
   "cell_type": "markdown",
   "metadata": {},
   "source": [
    "Solve the problem"
   ]
  },
  {
   "cell_type": "code",
   "execution_count": 17,
   "metadata": {},
   "outputs": [
    {
     "name": "stdout",
     "output_type": "stream",
     "text": [
      "\n",
      "\n",
      "Problem\n",
      "  Name                   :                 \n",
      "  Objective sense        : min             \n",
      "  Type                   : CONIC (conic optimization problem)\n",
      "  Constraints            : 73798           \n",
      "  Cones                  : 0               \n",
      "  Scalar variables       : 6278            \n",
      "  Matrix variables       : 65              \n",
      "  Integer variables      : 0               \n",
      "\n",
      "Optimizer started.\n",
      "GP based matrix reordering started.\n",
      "GP based matrix reordering terminated.\n",
      "Problem\n",
      "  Name                   :                 \n",
      "  Objective sense        : min             \n",
      "  Type                   : CONIC (conic optimization problem)\n",
      "  Constraints            : 73798           \n",
      "  Cones                  : 0               \n",
      "  Scalar variables       : 6278            \n",
      "  Matrix variables       : 65              \n",
      "  Integer variables      : 0               \n",
      "\n",
      "Optimizer  - threads                : 2               \n",
      "Optimizer  - solved problem         : the primal      \n",
      "Optimizer  - Constraints            : 66609\n",
      "Optimizer  - Cones                  : 1\n",
      "Optimizer  - Scalar variables       : 2307              conic                  : 2307            \n",
      "Optimizer  - Semi-definite variables: 65                scalarized             : 33828           \n",
      "Factor     - setup time             : 27.66             dense det. time        : 7.30            \n",
      "Factor     - ML order time          : 3.66              GP order time          : 7.58            \n",
      "Factor     - nonzeros before factor : 3.41e+07          after factor           : 8.11e+07        \n",
      "Factor     - dense dim.             : 770               flops                  : 1.20e+11        \n",
      "Factor     - GP saved nzs           : 1.46e+08          GP saved flops         : 1.34e+12        \n",
      "ITE PFEAS    DFEAS    GFEAS    PRSTATUS   POBJ              DOBJ              MU       TIME  \n",
      "0   1.0e+00  1.6e+01  1.0e+00  0.00e+00   0.000000000e+00   0.000000000e+00   1.0e+00  27.78 \n",
      "1   5.3e-01  8.5e+00  1.2e-01  2.76e+00   -4.153146461e-01  -5.922920312e-01  5.3e-01  32.73 \n",
      "2   5.2e-01  8.3e+00  9.4e-02  1.14e+01   -7.773854080e-01  -8.778302004e-01  5.2e-01  37.31 \n",
      "3   4.1e-01  6.6e+00  2.7e-02  1.14e+01   -8.422582221e-01  -8.510130590e-01  4.1e-01  41.89 \n",
      "4   1.7e-01  2.8e+00  7.4e-03  4.35e+00   -8.512757425e-01  -8.512379859e-01  1.7e-01  46.17 \n",
      "5   8.6e-03  1.4e-01  6.2e-05  1.33e+00   -8.534883889e-01  -8.535116256e-01  8.6e-03  50.41 \n",
      "6   2.2e-08  3.9e-07  8.4e-15  1.03e+00   -8.535533905e-01  -8.535533907e-01  2.2e-08  55.38 \n",
      "Optimizer terminated. Time: 55.55   \n",
      "\n",
      "\n",
      "Interior-point solution summary\n",
      "  Problem status  : PRIMAL_AND_DUAL_FEASIBLE\n",
      "  Solution status : OPTIMAL\n",
      "  Primal.  obj: -8.5355339053e-01   nrm: 1e+00    Viol.  con: 2e-10    var: 0e+00    barvar: 0e+00  \n",
      "  Dual.    obj: -8.5355339071e-01   nrm: 5e+00    Viol.  con: 0e+00    var: 3e-09    barvar: 2e-10  \n"
     ]
    },
    {
     "data": {
      "text/plain": [
       "0.8535533905294319"
      ]
     },
     "execution_count": 17,
     "metadata": {},
     "output_type": "execute_result"
    }
   ],
   "source": [
    "prob.solve(verbose=True,solver='MOSEK')"
   ]
  },
  {
   "cell_type": "markdown",
   "metadata": {},
   "source": [
    "A different constraint, more in line with the one discussed with Omar, is the following,"
   ]
  },
  {
   "cell_type": "code",
   "execution_count": null,
   "metadata": {},
   "outputs": [],
   "source": [
    "# The P matrix containing the information about the variables rho_TTSS is give by\n",
    "P = []\n",
    "\n",
    "for a1,q1 in indices_A1Q1:\n",
    "    P_row = [dimT**2/(probQ1[q1]*probQ2[q2])*cp.trace(cp.matmul(Phi_TTSS,rho_TTSS[nlg.binarytoint([a1,q1,a2,q2])]))\n",
    "             for a2,q2 in indices_A2Q2]\n",
    "    P.append(P_row)\n",
    "\n",
    "P = cp.bmat(P)\n",
    "\n",
    "# Introduce new variables Q and R, symmetic matrices whose elements are < 1\n",
    "\n",
    "# Q is dimA1*dimQ1 x dimA1*dimQ1\n",
    "Q = cp.Variable((dim_A1Q1,dim_A1Q1),symmetric=True)\n",
    "\n",
    "# R is dimA2*dimQ2 x dimA2*dimQ2\n",
    "R = cp.Variable((dim_A2Q2,dim_A2Q2),symmetric=True)\n",
    "\n",
    "# 5.1) The matrix M = [[Q,P],[P^T,R]] is PSD (NPA constraint)\n",
    "M = cp.bmat([[Q,P],[P.T,R]])\n",
    "constraints.append( M >> 0 )\n",
    "\n",
    "# 5.2) Assumptions on projective nature of measurement on A and B\n",
    "\n",
    "# Assumption over Q\n",
    "for alpha in range(dim_A1Q1):\n",
    "    for beta in range(dim_A1Q1):\n",
    "        if alpha == beta:\n",
    "            P_alpha = sum([P[alpha,gamma] for gamma in range(dim_A2Q2)])/dimQ2\n",
    "            constraints.append( Q[alpha,beta] - P_alpha == 0 )\n",
    "        elif abs(alpha-beta) == 1:\n",
    "            constraints.append( Q[alpha,beta] == 0 )\n",
    "\n",
    "# Assumption over R\n",
    "for alpha in range(dim_A2Q2):\n",
    "    for beta in range(dim_A2Q2):\n",
    "        if alpha == beta:\n",
    "            P_beta = sum([P[gamma,beta] for gamma in range(dim_A1Q1)])/dimQ1\n",
    "            constraints.append( R[alpha,beta] - P_beta == 0 )\n",
    "        elif abs(alpha-beta) == 1:\n",
    "            constraints.append( R[alpha,beta] == 0 )"
   ]
  }
 ],
 "metadata": {
  "kernelspec": {
   "display_name": "Python 3",
   "language": "python",
   "name": "python3"
  },
  "language_info": {
   "codemirror_mode": {
    "name": "ipython",
    "version": 3
   },
   "file_extension": ".py",
   "mimetype": "text/x-python",
   "name": "python",
   "nbconvert_exporter": "python",
   "pygments_lexer": "ipython3",
   "version": "3.7.3"
  }
 },
 "nbformat": 4,
 "nbformat_minor": 2
}
